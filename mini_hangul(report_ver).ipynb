{
  "cells": [
    {
      "cell_type": "markdown",
      "metadata": {
        "id": "2nClMs8pggSi"
      },
      "source": [
        "##### 들어가기 전에...\n",
        "\n",
        "이 주피터 노트북은 보고서의 형태를 띄고 있습니다. 원본을 보고 싶으시면 [원본 노트북](https://colab.research.google.com/drive/1m4Sia9G3wn6CoXdi6p--kPdgzGnVymHr?usp=sharing)을 참고해주세요. 원본 노트북을 먼저 작성한 뒤 복사해 이 보고서 노트북을 작성했습니다.\n",
        "\n",
        "이하 코드는 마지막 부분 `matplotlib`에서 한글을 출력하기 위해 글꼴을 설정합니다."
      ]
    },
    {
      "cell_type": "code",
      "execution_count": null,
      "metadata": {
        "id": "6Ch1BQWTgdye"
      },
      "outputs": [],
      "source": [
        "import matplotlib.font_manager as fm  # 폰트 관련 용도\n",
        "import matplotlib.pyplot as plt\n",
        "\n",
        "!apt-get update -qq\n",
        "!apt-get install fonts-nanum* -qq\n",
        "\n",
        "%config InlineBackend.figure_format = 'retina'\n",
        "path = '/usr/share/fonts/truetype/nanum/NanumBrush.ttf'  # 설치된 나눔글꼴중 원하는 녀석의 전체 경로를 가져오자\n",
        "font_name = fm.FontProperties(fname=path, size=13).get_name()\n",
        "plt.rc('font', family=font_name)\n",
        "fm._rebuild()"
      ]
    },
    {
      "cell_type": "markdown",
      "metadata": {
        "id": "3qvUsrETT3XG"
      },
      "source": [
        "# 텐서플로우를 이용한 한글 자음 인식 인공지능 만들기\n",
        "\n",
        "`모두의 인공지능 with 파이썬(이영호, 길벗)`에서 텐서플로우를 이용해 MNIST 데이터셋을 학습시켜 보았다. 0부터 9까지의 28x28 이미지와 정답이 주어지는, 지도 학습(Supervised Learning) 중에 다중 분류(Multiclass Classification)다. 그렇다면 코드를 조금만 변형하면 아름다운 우리 글자, 한글도 인식할 수 있지 않을까? 0~9의 숫자는 10개이어서 출력층의 개수가 10개였지만 한글이라면(자모 각각으로 보면) 14+10=24개의 출력층을 갖도록 수정하면 될 것이다. 바로 시작해보겠다.\n",
        "\n",
        "## 데이터셋\n",
        "\n",
        "이 노트북에서 사용하는 데이터셋은 `kaggle.com`에 있는 [Handwritten Hangul Characters](https://www.kaggle.com/wayperwayp/hangulkorean-characters/version/1)를 사용한다. 한글 자모별로 약 80개의 이미지가 있는 데이터셋이다. MNIST 데이터셋과 마찬가지로 28x28 픽셀인 흑백 이미지로 이루어져 있고 `bb_3_0.jpg`와 같이 파일 이름에 레이블이 있다(이 경우에는 bb=ㅃ).\n",
        "\n",
        "`kaggle` 데이터셋을 콜랩으로 다운로드하기 위해 `kaggle API`를 이용한다. 진행하기 위해서 Kaggle 어카운트 설정에서 API 토큰 파일(`kaggle.json`)을 먼저 내려받자. 아래 코드의 *Upload* 버튼을 누르고 `kaggle.json`을 업로드한다. "
      ]
    },
    {
      "cell_type": "code",
      "execution_count": null,
      "metadata": {
        "colab": {
          "base_uri": "https://localhost:8080/",
          "height": 90,
          "resources": {
            "http://localhost:8080/nbextensions/google.colab/files.js": {
              "data": "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",
              "headers": [
                [
                  "content-type",
                  "application/javascript"
                ]
              ],
              "ok": true,
              "status": 200,
              "status_text": ""
            }
          }
        },
        "id": "N_5A1Mu7ub7I",
        "outputId": "506db909-c350-44c1-fcf0-e22519f79f44"
      },
      "outputs": [
        {
          "name": "stdout",
          "output_type": "stream",
          "text": [
            "Please upload your kaggle.json\n"
          ]
        },
        {
          "data": {
            "text/html": [
              "\n",
              "     <input type=\"file\" id=\"files-60c2edf5-f5ec-485e-9575-e7363cfd4171\" name=\"files[]\" multiple disabled\n",
              "        style=\"border:none\" />\n",
              "     <output id=\"result-60c2edf5-f5ec-485e-9575-e7363cfd4171\">\n",
              "      Upload widget is only available when the cell has been executed in the\n",
              "      current browser session. Please rerun this cell to enable.\n",
              "      </output>\n",
              "      <script src=\"/nbextensions/google.colab/files.js\"></script> "
            ],
            "text/plain": [
              "<IPython.core.display.HTML object>"
            ]
          },
          "metadata": {},
          "output_type": "display_data"
        },
        {
          "name": "stdout",
          "output_type": "stream",
          "text": [
            "Saving kaggle.json to kaggle.json\n"
          ]
        }
      ],
      "source": [
        "from google.colab import files\n",
        "print(\"Please upload your kaggle.json\")\n",
        "files.upload()\n",
        "\n",
        "!mkdir -p ~/.kaggle\n",
        "# 유저 디렉터리로 이동\n",
        "!mv kaggle.json ~/.kaggle/\n",
        "# 권한 오류 방지\n",
        "!chmod 600 ~/.kaggle/kaggle.json"
      ]
    },
    {
      "cell_type": "markdown",
      "metadata": {
        "id": "3sYDIzJeTMFG"
      },
      "source": [
        "`kaggle.json`을 유저 디렉터리로 옮겼다. 이제 본격 다운로드다. kaggle 명령어는 콜랩에 내장되어 있다. 아래 코드는 다운 후 압축 해제한다. (콜랩에서 다운로드 시 `/content/` 아래 파일이 저장된다)"
      ]
    },
    {
      "cell_type": "code",
      "execution_count": null,
      "metadata": {
        "colab": {
          "base_uri": "https://localhost:8080/"
        },
        "id": "EobCr2q-BFFt",
        "outputId": "7d724efe-c245-4bb7-80b3-86be0e741255"
      },
      "outputs": [
        {
          "name": "stdout",
          "output_type": "stream",
          "text": [
            "hangulkorean-characters.zip: Skipping, found more recently modified local copy (use --force to force download)\n",
            "replace /content/hangulkorean-characters/hangul_characters_v1/a_0_0.jpg? [y]es, [n]o, [A]ll, [N]one, [r]ename: A\n"
          ]
        }
      ],
      "source": [
        "!kaggle datasets download -d wayperwayp/hangulkorean-characters\n",
        "!unzip -qq /content/hangulkorean-characters.zip -d /content/hangulkorean-characters"
      ]
    },
    {
      "cell_type": "markdown",
      "metadata": {
        "id": "KgCYWB0MUEiy"
      },
      "source": [
        "## 이미지 전처리\n",
        "\n",
        "다운받은 데이터셋은 전처리가 필요하다. MNIST 데이터셋처럼 X_train이나 Y_test가 나뉘어있지 않다. 직접 만들어주자.\n",
        "`jaums`는 한글 자음 리스트다. `ㄸ` 등 데이터셋에 없어 제외된 자음도 있다. `jaums_kor`는 `jaums`와 일대일 대응된다."
      ]
    },
    {
      "cell_type": "code",
      "execution_count": null,
      "metadata": {
        "id": "LwqOM984Zb6H"
      },
      "outputs": [],
      "source": [
        "# 데이터셋이 저장된 경로\n",
        "base_path = \"/content/hangulkorean-characters/hangul_characters_v1/\"\n",
        "\n",
        "# 자음 목록 (한글, 로마자)\n",
        "jaums_kor = ['ㄱ', 'ㄲ', 'ㄴ', 'ㄷ', 'ㄹ', 'ㅁ', 'ㅂ', 'ㅃ', 'ㅅ', 'ㅆ', 'ㅇ', 'ㅈ', 'ㅊ', 'ㅋ', 'ㅌ', 'ㅍ', 'ㅎ']\n",
        "jaums = ['g', 'gg', 'n', 'd', 'r', 'm', 'b', 'bb', 's', 'ss', 'ng', 'j', 'ch', 'k', 't', 'p', 'h']"
      ]
    },
    {
      "cell_type": "markdown",
      "metadata": {
        "id": "U3uKe7zy6oDn"
      },
      "source": [
        "`glob` 모듈을 이용해 자음 이미지 경로만 가져온다. 그 다음 훈련 데이터와 시험 데이터를 나눈다. 매 18번째 이미지만(=인덱스가 18의 배수인 요소) 시험 데이터로 간주한다."
      ]
    },
    {
      "cell_type": "code",
      "execution_count": null,
      "metadata": {
        "colab": {
          "base_uri": "https://localhost:8080/"
        },
        "id": "kfy27ngNVKRR",
        "outputId": "070de062-69b9-497c-a685-d44f95bcde66"
      },
      "outputs": [
        {
          "name": "stdout",
          "output_type": "stream",
          "text": [
            "total 1360 images\n",
            "train set: 1285\n",
            "test set: 76\n"
          ]
        }
      ],
      "source": [
        "import numpy as np\n",
        "from glob import glob\n",
        "\n",
        "image_paths = []\n",
        "for jaum in jaums:\n",
        "  image_paths += glob(base_path+jaum+\"*\")\n",
        "\n",
        "image_paths = list(set(image_paths)) # 중복 제거\n",
        "print(f\"total {len(image_paths)} images\")\n",
        "\n",
        "# 이미지 경로 리스트를 훈련 데이터와 시험 데이터로 분리\n",
        "nth = 18\n",
        "paths_list = [\n",
        "  image_paths[:], # 훈련 데이터 (아직 전체 데이터)\n",
        "  image_paths[::nth] # 시험 데이터\n",
        "]\n",
        "\n",
        "del paths_list[0][nth-1::nth] # 훈련 데이터 중 시험 데이터를 제외\n",
        "\n",
        "print(f\"train set: {len(paths_list[0])}\")\n",
        "print(f\"test set: {len(paths_list[1])}\")"
      ]
    },
    {
      "cell_type": "markdown",
      "metadata": {
        "id": "2fatBN0D6oDn"
      },
      "source": [
        "주어진 경로의 이미지를 불러오고 넘파이 배열로 변환한다. 이 과정에서 0-255인 값을 255로 나누어 0-1의 실수로 정규화한다. \n",
        "`to_categorical`을 이용해 Y 데이터(레이블)는 원-핫 인코딩으로 변환한다."
      ]
    },
    {
      "cell_type": "code",
      "execution_count": 14,
      "metadata": {
        "id": "-2d9CtKS-dPn"
      },
      "outputs": [],
      "source": [
        "from PIL import Image\n",
        "from tensorflow.keras.utils import to_categorical\n",
        "\n",
        "Xs = []\n",
        "Ys = []\n",
        "\n",
        "for paths in paths_list:\n",
        "  X = np.zeros((len(paths),784)).astype(\"float32\") # 784=28*28\n",
        "  Y = np.zeros((len(paths)))\n",
        "  \n",
        "  for i in range(len(paths)):\n",
        "    answer = paths[i].split(\"/\")[-1].split(\"_\")[0] # 이미지 이름에서 레이블 추출\n",
        "    image = np.array(Image.open(paths[i]).convert(\"L\")) # convert(\"L\"): 이미지를 흑백으로 변환\n",
        "    image = np.reshape(image, (784)) # 28x28 픽셀을 한 줄로 변환\n",
        "    X[i] = image/255 # 정규화\n",
        "    Y[i] = jaums.index(answer)\n",
        "\n",
        "  Xs.append(X)\n",
        "  Ys.append(to_categorical(Y, len(jaums))) # 원-핫 인코딩"
      ]
    },
    {
      "cell_type": "markdown",
      "metadata": {
        "id": "aaIHrpAPeMl0"
      },
      "source": [
        "## 학습 진행\n",
        "\n",
        "`Sequential()`을 이용해 모델을 생성한다. 자음의 개수가 약 17개 정도이니 은닉층 개수를 MNIST보다 한 층 늘렸다.\n",
        "다중 분류 문제이니 손실 함수, 옵티마이저는 각각 `categorical_crossentropy`, `adam`으로 설정한다.\n",
        "에폭은 30으로 설정했다."
      ]
    },
    {
      "cell_type": "code",
      "execution_count": 15,
      "metadata": {
        "colab": {
          "base_uri": "https://localhost:8080/"
        },
        "id": "EHoFWR-wY-U4",
        "outputId": "d91ed171-9dcc-418e-801f-188a7623ada4"
      },
      "outputs": [
        {
          "name": "stdout",
          "output_type": "stream",
          "text": [
            "Model: \"sequential_1\"\n",
            "_________________________________________________________________\n",
            " Layer (type)                Output Shape              Param #   \n",
            "=================================================================\n",
            " dense_4 (Dense)             (None, 1024)              803840    \n",
            "                                                                 \n",
            " activation_4 (Activation)   (None, 1024)              0         \n",
            "                                                                 \n",
            " dense_5 (Dense)             (None, 512)               524800    \n",
            "                                                                 \n",
            " activation_5 (Activation)   (None, 512)               0         \n",
            "                                                                 \n",
            " dense_6 (Dense)             (None, 256)               131328    \n",
            "                                                                 \n",
            " activation_6 (Activation)   (None, 256)               0         \n",
            "                                                                 \n",
            " dense_7 (Dense)             (None, 17)                4369      \n",
            "                                                                 \n",
            " activation_7 (Activation)   (None, 17)                0         \n",
            "                                                                 \n",
            "=================================================================\n",
            "Total params: 1,464,337\n",
            "Trainable params: 1,464,337\n",
            "Non-trainable params: 0\n",
            "_________________________________________________________________\n",
            "\n",
            "\n",
            "\n",
            "Epoch 1/30\n",
            "11/11 [==============================] - 1s 25ms/step - loss: 2.7548 - accuracy: 0.1339\n",
            "Epoch 2/30\n",
            "11/11 [==============================] - 0s 25ms/step - loss: 2.2516 - accuracy: 0.3206\n",
            "Epoch 3/30\n",
            "11/11 [==============================] - 0s 26ms/step - loss: 1.6505 - accuracy: 0.5058\n",
            "Epoch 4/30\n",
            "11/11 [==============================] - 0s 27ms/step - loss: 1.2288 - accuracy: 0.6086\n",
            "Epoch 5/30\n",
            "11/11 [==============================] - 0s 24ms/step - loss: 0.9295 - accuracy: 0.7191\n",
            "Epoch 6/30\n",
            "11/11 [==============================] - 0s 26ms/step - loss: 0.9689 - accuracy: 0.6848\n",
            "Epoch 7/30\n",
            "11/11 [==============================] - 0s 28ms/step - loss: 0.8680 - accuracy: 0.7035\n",
            "Epoch 8/30\n",
            "11/11 [==============================] - 0s 25ms/step - loss: 0.6482 - accuracy: 0.8272\n",
            "Epoch 9/30\n",
            "11/11 [==============================] - 0s 25ms/step - loss: 0.5315 - accuracy: 0.8420\n",
            "Epoch 10/30\n",
            "11/11 [==============================] - 0s 26ms/step - loss: 0.5200 - accuracy: 0.8389\n",
            "Epoch 11/30\n",
            "11/11 [==============================] - 0s 25ms/step - loss: 0.6686 - accuracy: 0.7992\n",
            "Epoch 12/30\n",
            "11/11 [==============================] - 0s 25ms/step - loss: 0.5614 - accuracy: 0.8358\n",
            "Epoch 13/30\n",
            "11/11 [==============================] - 0s 27ms/step - loss: 0.6368 - accuracy: 0.7914\n",
            "Epoch 14/30\n",
            "11/11 [==============================] - 0s 25ms/step - loss: 0.4562 - accuracy: 0.8615\n",
            "Epoch 15/30\n",
            "11/11 [==============================] - 0s 25ms/step - loss: 0.4966 - accuracy: 0.8506\n",
            "Epoch 16/30\n",
            "11/11 [==============================] - 0s 25ms/step - loss: 0.3725 - accuracy: 0.8942\n",
            "Epoch 17/30\n",
            "11/11 [==============================] - 0s 26ms/step - loss: 0.3279 - accuracy: 0.9074\n",
            "Epoch 18/30\n",
            "11/11 [==============================] - 0s 25ms/step - loss: 0.2755 - accuracy: 0.9183\n",
            "Epoch 19/30\n",
            "11/11 [==============================] - 0s 24ms/step - loss: 0.2931 - accuracy: 0.8996\n",
            "Epoch 20/30\n",
            "11/11 [==============================] - 0s 26ms/step - loss: 0.2553 - accuracy: 0.9284\n",
            "Epoch 21/30\n",
            "11/11 [==============================] - 0s 26ms/step - loss: 0.2365 - accuracy: 0.9268\n",
            "Epoch 22/30\n",
            "11/11 [==============================] - 0s 24ms/step - loss: 0.2190 - accuracy: 0.9385\n",
            "Epoch 23/30\n",
            "11/11 [==============================] - 0s 26ms/step - loss: 0.2048 - accuracy: 0.9346\n",
            "Epoch 24/30\n",
            "11/11 [==============================] - 0s 26ms/step - loss: 0.1642 - accuracy: 0.9510\n",
            "Epoch 25/30\n",
            "11/11 [==============================] - 0s 25ms/step - loss: 0.4469 - accuracy: 0.8553\n",
            "Epoch 26/30\n",
            "11/11 [==============================] - 0s 24ms/step - loss: 0.3779 - accuracy: 0.8809\n",
            "Epoch 27/30\n",
            "11/11 [==============================] - 0s 24ms/step - loss: 0.2445 - accuracy: 0.9206\n",
            "Epoch 28/30\n",
            "11/11 [==============================] - 0s 25ms/step - loss: 0.1938 - accuracy: 0.9354\n",
            "Epoch 29/30\n",
            "11/11 [==============================] - 0s 24ms/step - loss: 0.1416 - accuracy: 0.9556\n",
            "Epoch 30/30\n",
            "11/11 [==============================] - 0s 24ms/step - loss: 0.1141 - accuracy: 0.9696\n"
          ]
        },
        {
          "data": {
            "text/plain": [
              "<keras.callbacks.History at 0x7f63a4076ed0>"
            ]
          },
          "execution_count": 15,
          "metadata": {},
          "output_type": "execute_result"
        }
      ],
      "source": [
        "from tensorflow.keras.models import Sequential\n",
        "from tensorflow.keras.layers import Dense, Activation\n",
        "\n",
        "X_train, X_test = Xs\n",
        "Y_train, Y_test = Ys\n",
        "\n",
        "model = Sequential()\n",
        "model.add(Dense(1024, input_shape=(784,)))\n",
        "model.add(Activation(\"relu\"))\n",
        "model.add(Dense(512))\n",
        "model.add(Activation(\"relu\"))\n",
        "model.add(Dense(256))\n",
        "model.add(Activation(\"relu\"))\n",
        "model.add(Dense(len(jaums)))\n",
        "model.add(Activation(\"softmax\"))\n",
        "model.summary()\n",
        "\n",
        "print(\"\\n\\n\")\n",
        "\n",
        "model.compile(loss=\"categorical_crossentropy\", optimizer=\"adam\", metrics=[\"accuracy\"])\n",
        "model.fit(X_train, Y_train, epochs=30, verbose=1, batch_size=128)"
      ]
    },
    {
      "cell_type": "markdown",
      "metadata": {
        "id": "98IEX73Q_T1P"
      },
      "source": [
        "## 시험\n",
        "\n",
        "이제 훈련 데이터로 학습이 완료되었다. 이제 시험 데이터로 시험해보자. "
      ]
    },
    {
      "cell_type": "code",
      "execution_count": 16,
      "metadata": {
        "colab": {
          "base_uri": "https://localhost:8080/"
        },
        "id": "GLSG2_qFjzGO",
        "outputId": "7cdff514-b206-436e-8213-810e5681ee00"
      },
      "outputs": [
        {
          "name": "stdout",
          "output_type": "stream",
          "text": [
            "3/3 [==============================] - 0s 7ms/step - loss: 0.1546 - accuracy: 0.9474\n",
            "Test score: 0.15456195175647736\n",
            "Test accuracy: 0.9473684430122375\n"
          ]
        }
      ],
      "source": [
        "score = model.evaluate(X_test, Y_test)\n",
        "print(\"Test score:\", score[0])\n",
        "print(\"Test accuracy:\", score[1])"
      ]
    },
    {
      "cell_type": "markdown",
      "metadata": {
        "id": "6teis77jcEOg"
      },
      "source": [
        "## 학습 결과 살펴보기\n",
        "\n",
        "(이 부분은 책의 코드와 거의 유사합니다.)\n",
        "\n",
        "정확도까지 알아보았다. 코드와 수치로만 살펴보면, 우리가 이미지를 학습하고 있다는 사실을 쉽게 잊기 마련이다. 훈련 데이터 중 모델이 정답을 맞춘 이미지(`correct_indices`)와 틀린 이미지(`incorrect_indices`)를 직접 알아보자."
      ]
    },
    {
      "cell_type": "code",
      "execution_count": 17,
      "metadata": {
        "id": "RWyw29d1cKFc"
      },
      "outputs": [],
      "source": [
        "Y_test_max = np.argmax(Y_test, axis=1) # 원-핫 인코딩 되어있는 훈련 레이블을 정답 정수만 남기기\n",
        "\n",
        "predicted_classes = np.argmax(model.predict(X_test), axis=1) # 모델에게 예측 시키기\n",
        "correct_indices = np.nonzero(predicted_classes == Y_test_max)[0] # 모델이 맞춘 이미지들만 가져오기\n",
        "incorrect_indices = np.nonzero(predicted_classes != Y_test_max)[0] # 모델이 틀린 이미지들만 가져오기"
      ]
    },
    {
      "cell_type": "markdown",
      "metadata": {
        "id": "eMW7CPP06oDr"
      },
      "source": [
        "이미지를 출력하기 전에... 우리는 한글을 다루기 때문에 플롯 제목에 한글이 포함된다(숫자로만 출력할 수 있지만 직관성이 떨어진다). 하지만 기본 콜랩에는 한글 글꼴이 없기 때문에 깨져서 출력된다. 이 문제를 해결하기 위해 이 노트북 맨 위에서 나눔손글씨체를 설치하고, 글꼴을 설정한 것이다. \n",
        "\n",
        "이제 출력해보자. 먼저 정답을 맞춘 이미지 중 9장이다."
      ]
    },
    {
      "cell_type": "code",
      "execution_count": 18,
      "metadata": {
        "colab": {
          "base_uri": "https://localhost:8080/",
          "height": 297
        },
        "id": "1-8uxpoDcZgE",
        "outputId": "5f3e6a61-4cee-44d6-aa5f-76f06e7b80ee"
      },
      "outputs": [
        {
          "data": {
            "image/png": "[encoded data removed]",
            "text/plain": [
              "<Figure size 432x288 with 9 Axes>"
            ]
          },
          "metadata": {
            "image/png": {
              "height": 280,
              "width": 383
            },
            "needs_background": "light"
          },
          "output_type": "display_data"
        }
      ],
      "source": [
        "plt.figure()\n",
        "for i in range(min(len(correct_indices), 9)): \n",
        "  plt.subplot(3,3,i+1)\n",
        "  correct = correct_indices[i]\n",
        "  plt.imshow(X_test[correct].reshape(28,28), cmap='gray') # 흑백으로 이미지 출력\n",
        "  plt.title(f\"Predicted {jaums_kor[predicted_classes[correct]]}, Class {jaums_kor[Y_test_max[correct]]}\")\n",
        "\n",
        "plt.tight_layout()"
      ]
    },
    {
      "cell_type": "markdown",
      "metadata": {
        "id": "L--tJjm26oDr"
      },
      "source": [
        "모범답안을 본 것이니 별 감흥은 없다. 그 다음 틀린 이미지들이다."
      ]
    },
    {
      "cell_type": "code",
      "execution_count": 19,
      "metadata": {
        "colab": {
          "base_uri": "https://localhost:8080/",
          "height": 214
        },
        "id": "dtNpY57YkotG",
        "outputId": "4ddd9ff5-fdc4-4077-8aa9-3e10f3368492"
      },
      "outputs": [
        {
          "data": {
            "image/png": "[encoded data removed]",
            "text/plain": [
              "<Figure size 432x288 with 4 Axes>"
            ]
          },
          "metadata": {
            "image/png": {
              "height": 197,
              "width": 387
            },
            "needs_background": "light"
          },
          "output_type": "display_data"
        }
      ],
      "source": [
        "plt.figure()\n",
        "for i in range(min(len(incorrect_indices), 9)): # 정확도 100%일 때에는, incorrect_indices 요소가 0개다. 오류 방지로 min()\n",
        "  plt.subplot(3,3,i+1)\n",
        "  incorrect = incorrect_indices[i]\n",
        "  plt.imshow(X_test[incorrect].reshape(28,28), cmap='gray') # 흑백으로 이미지 출력\n",
        "  plt.title(f\"Predicted {jaums_kor[predicted_classes[incorrect]]}, Class {jaums_kor[Y_test_max[incorrect]]}\")\n",
        "\n",
        "plt.tight_layout()"
      ]
    },
    {
      "cell_type": "markdown",
      "metadata": {
        "id": "S0EAg1ZN6oDs"
      },
      "source": [
        "정확도가 터무니없이 높은 경우, 틀린 이미지가 0개가 나올 수 있다.\n",
        "\n",
        "## 이미지 직접 업로드해서 예측하기\n",
        "\n",
        "남이 만든 데이터셋만을 다루다보면 느낌이 다가오지 않는 경우가 있다. 내가 만든 데이터를 직접 넣어보자. 28x28 흑백 한글 자음 이미지를 준비하자. 이미지 이름은 `test_`로 시작해야 한다. 작성자는 포토샵을 이용해 이미지를 그렸다. 아래에서 이미지들을 업로드하자."
      ]
    },
    {
      "cell_type": "code",
      "execution_count": null,
      "metadata": {
        "cellView": "code",
        "colab": {
          "base_uri": "https://localhost:8080/",
          "height": 1000,
          "resources": {
            "http://localhost:8080/nbextensions/google.colab/files.js": {
              "data": "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",
              "headers": [
                [
                  "content-type",
                  "application/javascript"
                ]
              ],
              "ok": true,
              "status": 200,
              "status_text": ""
            }
          }
        },
        "id": "fkP-dYN5A-KC",
        "outputId": "55daa0c9-2f8a-4fb0-ac7a-82565c30b738"
      },
      "outputs": [
        {
          "name": "stdout",
          "output_type": "stream",
          "text": [
            "Upload images. Image Name should start with 'test_'.\n"
          ]
        },
        {
          "data": {
            "text/html": [
              "\n",
              "     <input type=\"file\" id=\"files-9acbf2ed-2191-4f2a-b8ce-381a306f5b6c\" name=\"files[]\" multiple disabled\n",
              "        style=\"border:none\" />\n",
              "     <output id=\"result-9acbf2ed-2191-4f2a-b8ce-381a306f5b6c\">\n",
              "      Upload widget is only available when the cell has been executed in the\n",
              "      current browser session. Please rerun this cell to enable.\n",
              "      </output>\n",
              "      <script src=\"/nbextensions/google.colab/files.js\"></script> "
            ],
            "text/plain": [
              "<IPython.core.display.HTML object>"
            ]
          },
          "metadata": {},
          "output_type": "display_data"
        },
        {
          "name": "stdout",
          "output_type": "stream",
          "text": [
            "Saving test_b1.png to test_b1.png\n",
            "Saving test_b2.png to test_b2.png\n",
            "Saving test_b3.png to test_b3.png\n",
            "Saving test_b4.png to test_b4.png\n",
            "Saving test_b5.png to test_b5.png\n",
            "Saving test_bb1.png to test_bb1.png\n",
            "Saving test_ch1.png to test_ch1.png\n",
            "Saving test_ch2.png to test_ch2.png\n",
            "Saving test_g1.png to test_g1.png\n",
            "Saving test_g2.png to test_g2.png\n",
            "Saving test_gg1.png to test_gg1.png\n",
            "Saving test_gg2.png to test_gg2.png\n",
            "Saving test_j.png to test_j.png\n",
            "Saving test_j2.png to test_j2.png\n",
            "Saving test_m1.png to test_m1.png\n",
            "Saving test_ng1.png to test_ng1.png\n",
            "Saving test_p1.png to test_p1.png\n",
            "Saving test_r1.png to test_r1.png\n",
            "Saving test_r2.png to test_r2.png\n",
            "Saving test_s1.png to test_s1.png\n"
          ]
        },
        {
          "data": {
            "text/plain": [
              "{'test_b1.png': b'\\x89PNG\\r\\n\\x1a\\n\\x00\\x00\\x00\\rIHDR\\x00\\x00\\x00\\x1c\\x00\\x00\\x00\\x1c\\x08\\x02\\x00\\x00\\x00\\xfdoH\\xc3\\x00\\x00\\x00\\tpHYs\\x00\\x00.#\\x00\\x00.#\\x01x\\xa5?v\\x00\\x00\\x03\\x1dIDATH\\x89\\xd5\\x95\\xbdN\\xebL\\x10\\x86w\\xed\\xf5\\xda\\xde\\xb5\\x85\\xe2(\\x82\\x86\\x8a\\x12\\x85\\x8a\\x06.\\x00$\\nn\\x80\\x02\\xae\\x84\\x96\\x0b\\xa0\\xe5\\x1a@\\x08)-\\x1d\\x12\\x01E\\x14Q*\\x90\\x90,~\\x0cX\\x91\\x89\\x1d\\xdb\\xb1\\xbd{\\x8a\\x81\\x05\\xe5\\x87#\\x1d\\xf1\\x15\\xdf\\x14V\\xac\\xcc>3\\xf3\\xce\\xcc\\x1aK)\\xd1o\\x9b\\xf6\\xebD\\x84\\x10\\xf9\\x873R\\xca\\xe1p\\x98$\\x89m\\xdb\\x8e\\xe3`\\x8c\\x7f\\x82\\n!\\x10B\\x9a6=}!DY\\x96\\x84\\x908\\x8e[\\xad\\xd6\\xf5\\xf5\\xf5\\xf2\\xf2\\xf2\\xf6\\xf6v\\xbd^\\x9f\\x12VJ)\\x84\\x08\\xc3\\xb0\\xd3\\xe9\\xb4\\xdb\\xed \\x08\\xaa\\xaa\\x92\\xb3\\xad\\xd3\\xe9\\xac\\xac\\xacPJ\\x97\\x96\\x96\\xce\\xcf\\xcf\\x85\\x10c\\x0e\\x1fI\\xc5q|||\\xbc\\xbb\\xbb\\xbb\\xb3\\xb3stt\\x14E\\xd1\\x0f\\xe5\\xdf\\xdf\\xdf\\xdf\\xdd\\xdd\\x8dF#\\xdf\\xf7{\\xbd^Y\\x96c\\x0e\\x1f\\xd0\\xd7\\xd7\\xd7\\xd3\\xd3\\xd3^\\xafw{{{rr\\xe2\\xfb\\xfe\\x0f\\xd0\\xc1`\\x00 !D\\x9a\\xa6\\x93\\x0e_\\x99>==UU\\x05\\x01\\x92$\\x99E\\x14BdY\\x06\\x9e\\x08!J\\xe9d\\x0f>\\x1a\\x851\\x16B@\\x1f\\xa5\\x94\\x18c\\x10\\x1a!\\xa4i\\xda\\xf7\\xfeVU\\xa5\\x88\\x18c\\xc6\\x98\\xae\\xeb\\xd3\\xa1\\xe0\\x01\\x8b0\\x1c\\x0e[\\xadV\\xb7\\xdb\\x05\\xd5\\t!\\xa6iRJ\\x19c\\xb6mSJ\\x1f\\x1f\\x1f\\xc1SJ\\x99$\\x89\\x10b,\\xd9/(\\xe4\\x85\\x10\\n\\xc3\\xf0\\xe0\\xe0\\x00\\xf2\\x85`\\x18cB\\x08\\xa5\\x14\\xd0\\x10\\x0c\\x8e\\xdc\\xdc\\xdcDQT\\xab\\xd5\\xa6CUQR\\xca\\xc9\\x86\\x16E\\x91\\xa6\\xa9\\x8a\\xa4\\xa0WWW\\xcf\\xcf\\xcf\\xd3\\xa1\\x9a\\xa6QJ\\x95\\x0eJG\\xa55d\\xa7$R\\x16E\\xd1\\xfb\\xfb\\xfbtM)\\xa5\\x9cs8\\xe3\\xba\\xee\\xde\\xde^\\xb3\\xd9\\xd4u\\x1dc\\x9c\\xa6i\\x18\\x86A\\x10\\xbc}\\xda\\xcb\\xcb\\x0b,\\x08B\\x88snY\\xd6L\\xa8\\xeb\\xba\\x90\\x9d\\xa6i\\x1b\\x1b\\x1b[[[\\xf0ZUU\\x9e\\xe7Y\\x96eY\\x06+\\x7fqq\\xb1\\xbf\\xbf\\x1f\\x86!B\\xa8V\\xab\\xcd\\x84Z\\x96\\xe5\\xba.\\xd4\\x08)\\xa81\\xd2u\\x9d1\\xc6\\x18Sg\\xfa\\xfd>!\\x04\\xd4\\xb0,kr\\xa44\\xa5)c\\x0c@B\\x88\\xa2(\\xd0l+\\x8aB9\\xd8\\xb6M\\xc8\\xf8UGT:\\xa6i\\xc2\\xef\\xaa\\xaa`\\xbc\\xa4\\x94Pr\\x1c\\xc7I\\x92$I\\xa2\\xca\\x87\\x95\\xc3\\x18;\\x8ec\\xdb\\xf6L\\xa8\\xfaO\\x08qyy\\x99\\xe7\\xf9`0\\x08\\x82\\xc0\\xf7\\xfd\\x87\\x87\\x87\\xb7\\xb7\\xb7~\\xbf\\x0f\\xdc4M\\xf3<G\\x9f\\xbb7s\\xa3\\x08!\\x96e\\xc1\\xb8\\x8cF\\xa3\\xc3\\xc3C\\x84PY\\x96p\\xad\\xa1\\xcf\\xc1\\x84\\xe7\\xf7\\xad\\xf5<\\xcf0\\x8c\\xe9P\\xc30\\x16\\x16\\x16\\xd4\\x18N\\xbd{\\xbe\\xcf/\\xb8-..nnnr\\xcegB\\xd7\\xd7\\xd7\\x9b\\xcdf\\xb7\\xdb\\x85]V\\xe3e\\x18\\x86eY\\x8c\\xb1\\xb9\\xb99\\xcf\\xf3\\x1a\\x8d\\xc6\\xfc\\xfc\\xbc\\xeb\\xba\\x9e\\xe7\\xad\\xad\\xad\\xad\\xae\\xaeN6\\xeakC\\xd24m\\xb7\\xdbgggA\\x10p\\xce\\xeb\\xf5z\\xa3\\xd1\\xf0<\\xcfq\\x1c\\xc7q\\x18c\\x9csxr\\xceM\\xd34MsR\\xcdq(\\x88\\x18\\xc7q\\x96e \\xb1i\\x9a\\x84\\x90\\xc9\\xef\\xda_m|\\x97\\x7f\\xc5\\xfe\\x93\\xef\\xfe\\xff\\x07\\xfa\\x07\\xd7\\x80\\x15vY\\xb6\\xc4\\x8f\\x00\\x00\\x00\\x00IEND\\xaeB`\\x82',\n",
              " 'test_b2.png': b'\\x89PNG\\r\\n\\x1a\\n\\x00\\x00\\x00\\rIHDR\\x00\\x00\\x00\\x1c\\x00\\x00\\x00\\x1c\\x08\\x02\\x00\\x00\\x00\\xfdoH\\xc3\\x00\\x00\\x00\\tpHYs\\x00\\x00.#\\x00\\x00.#\\x01x\\xa5?v\\x00\\x00\\x03qIDATH\\x89\\xadU?O\\xfa\\\\\\x18mooKKAe\\xa8\\x06\\x08\\x83q\\xd4QW\\xa3\\xbb\\x8b\\xf1\\x13\\x18\\x17WM\\xdc\\x9d\\xfd\\n~\\rus\\xd1DqR01:\\x801\\x84\\x18\\x85\\xb6B\\x81\\xfe\\xbb\\x7f\\xde\\xe1\\xf1\\xbd\\x14x\\x7f?|\\x13\\x9f\\x85\\x9b\\xder\\x9e\\xf3\\x9c{\\xce\\xad\\xcc9\\x97~\\xbb\\xd0\\xaf#\\x8e\\x83r\\xce\\x7f\\x858\\x86\\x1fJ\\xa9m\\xdb\\xcdfsvv6\\x9f\\xcf\\x1b\\x861\\xf9*c\\x8c\\x10\\x821F\\x08%\\x9f \\x84\\x14E\\x91ey\\x9c\\xdd\\xfb\\xfb\\xfb\\xc1\\xc1A\\xb1X\\xdc\\xd8\\xd8\\xb8\\xbc\\xbc\\x0c\\xc3\\x90O\\xab(\\x8a^^^...\\xca\\xe5\\xb2\\xeb\\xba\\x8c1\\xb1\\xf5\\rzuuU(\\x14dY\\xc6\\x18\\x1f\\x1d\\x1d\\xb5Z\\xad\\xa9\\xa0\\x8dFcooo~~~uu\\xf5\\xec\\xec,\\x08\\x02\\xb1\\xf5=H\\xb7\\xdb\\xf5<\\x8fs\\xce\\x18k4\\x1aa\\x18N\\x15\\xae^\\xaf\\x9f\\x9f\\x9f\\xb7Z\\xad\\x87\\x87\\x87\\x9b\\x9b\\x9b\\xc1` \\xb6\\x86\\x07\\x05\\xa2\\xc0\\\\\\x8c\\xb1\\xa9\\xa0\\xb6mw:\\x1d\\xe0\\xe1y^r\\x0b%\\x11\\x01\\xf4\\'\\x88\\x92$\\x11B(\\xa5\\xb0N\\xa5R\\xaa\\xaa\\x8e\\x83\\n\\'\\xc9\\xb2\\xfcsW\\x81\\r@\\xc7\\xe4\\xe9\\xe3\\xc9\\xb6\\x08!\\xd7u%I\\n\\x82 \\x0c\\xc3 \\x08\\xa2(\"\\x84\\xc4q\\x0c\\x10\\xf0\\xff\\xa7\\xa7\\'h/\\xcb\\xf2`0\\x88\\xa2\\xc84\\xcd\\x11\\xd08\\x8e\\t!\\xb0~{{;99\\xe9\\xf5z\\x9dN\\xc7\\xf3\\xbc~\\xbf\\xef\\xfb~\\x14E\\xa0\\x8c\\xe0\\x15\\xc7\\xb1h\\xe3\\xba\\xae\\xef\\xfb\\xb9\\\\n\\x08\\xca9\\xb7m[\\xbcq\\x7f\\x7f_\\xa9T\\xc6\\xd25\\xa9IR\\xa8\\xaf\\xaf/\\xc1\\xe9\\x1b\\x94R\\xfa\\xf9\\xf9\\x99<\\x1f\\x90\")\\x13BH\\x0c;\\xd9 \\x08\\x02\\xe04\\x04%\\x84\\x84a(\\xde\\xc6\\x18\\xc3i\\xa6R\\xa9T*\\x95\\xfe\\xb7TUE\\x08\\x89\\x8cv\\xbb\\xddj\\xb5\\xea\\xfb\\xbe\\xd0t\\x04\\x14\\x04\\x05P\\x8c\\xf1\\xfe\\xfe\\xfe\\xe6\\xe6f:\\x9d\\x06h]\\xd7u]\\xc7\\x18C\\xeaAP\\xce\\xf9\\xe3\\xe3\\xe3\\xe1\\xe1a\\xbd^\\xe7\\x9c{\\x9e\\x974?\\x96$\\x891\\x06a\\x871\\xd7\\xd7\\xd7\\xb7\\xb7\\xb7\\xa5i\\x15E\\x91eY\\xaf\\xaf\\xaf\\xc0\\xba\\xdf\\xef\\x0f\\xb5\\x9a\\x94\\x7f\\xe4\\xbe\\xf9se\\xb3\\xd9|>\\x0f\\xac{\\xbd\\xde8S\\x84\\x90\\xaa\\xaa\\x02\\xeb\\x87\\x892M\\xb3P(\\xc0|q\\x1c\\x8f3UUuffF\\x92$\\xce9\\xa54)\\xf9_J\\xd34\\xcb\\xb2\\x80\\n!$i\\xa9o\\xd0\\xb9\\xb99\\xe8\\xc9\\x18\\xabV\\xab\\xcf\\xcf\\xcf\\xc2\\xb9c\\xc59\\x0f\\xc3\\x10\\xa2\\x91\\x9ci\\xdcR\\x8a\\xa2d\\xb3YEQ\\x08!\\x8c\\xb1\\xd3\\xd3\\xd3\\xeb\\xeb\\xeb\\x95\\x95\\x95\\xe5\\xe5\\xe5R\\xa9\\x94\\xc9d\\x10B\\x8c\\xb1(\\x8a|\\xdfw\\x1c\\xc7u]\\xc7q\\x1c\\xc7\\xa9T*\\xa2\\xd3\\x7fd\\xbfP(h\\x9a\\x06#\\xb8\\xae{{{{ww\\x87\\x10\\x02\\xab\\x827\\xe38\\x86K\\x80R*\\x8c%\\x82\\xa0\\xeb\\xfa\\xc88\\x9c\\xf3f\\xb3\\xb9\\xb3\\xb3\\x831\\x16\\r\\'\\x17\\xa2&\\x9f\\xe4\\xf3\\xf9r\\xb9,n~\\xe5\\xf8\\xf8X\\x92\\xa4L&\\xb3\\xb6\\xb6\\xb6\\xb4\\xb4d\\x18\\x86\\xaa\\xaa\\x8c1J)cL8\\x0c\\x16\\x08!\\xf8\\xe4@\\xde\\x0c\\xc3H\\xa7\\xd3\\xc5bqwwwkkK\\x90\\x1d\\tr\\x10\\x04\\xb6m\\xb7\\xdb\\xedv\\xbb\\xfd\\xf1\\xf1Q\\xab\\xd5j\\xb5Z\\xab\\xd5\\xa2\\x94\"\\x84L\\xd3\\xb4,\\xabT*-,,d2\\x19M\\xd3 f\\x96e-..\\xe6r\\xb9\\xe1p\\x7f\\xba\\x92\\x19c\\xbe\\xef{\\x9e\\xe7\\xfb>\\xe7\\x1c!\\xa4i\\x9a\\xae\\xeb\\xa6ij\\x9a\\xf6\\xf7\\x80\\xfc\\x8f{\\xfe\\xe7\\xf5\\x0f\\x82\\x03\\xc2{9\\x01\\x84V\\x00\\x00\\x00\\x00IEND\\xaeB`\\x82',\n",
              " 'test_b3.png': b\"\\x89PNG\\r\\n\\x1a\\n\\x00\\x00\\x00\\rIHDR\\x00\\x00\\x00\\x1c\\x00\\x00\\x00\\x1c\\x08\\x02\\x00\\x00\\x00\\xfdoH\\xc3\\x00\\x00\\x00\\tpHYs\\x00\\x00.#\\x00\\x00.#\\x01x\\xa5?v\\x00\\x00\\x03\\nIDATH\\x89\\xadU;K3A\\x14\\x9d\\xd9\\x99\\xd9\\xd9ILT|@\\xc0B\\x10,,\\xec\\xc4\\xce\\xd2\\xdfb\\xe3\\xdf\\xb1\\xb2\\x8e\\xbd\\x95\\x95XX\\x08jc!\\xc6g\\xa3\\xa2$\\x18\\xd9\\xf7<\\xf7+&\\xd9l\\x92\\xcdG\\x02\\x9e&\\xec0\\xf7\\xdc{\\xcf=w\\x02\\xb3,\\x03\\x7f\\r\\xa7\\xf8\\xf1W\\t\\x06\\xa4\\x9c\\xf3\\xaf\\xaf\\xaf \\x08\\x8c1\\xe3\\xf7f\\xca\\xe7\\xe41\\x8f\\x8f\\x8fGGG\\x17\\x17\\x17Q\\x14M\\x1f\\x9fe\\x99\\xd6z\\xe4\\x10\\xdb\\x1fc\\xcc\\xf5\\xf5\\xf5\\xc9\\xc9I\\xa7\\xd3\\xd9\\xde\\xde\\xae\\xd5j#\\xf7 \\x84\\xe3\\x8c\\x9c\\xf3V\\xab\\xf5\\xfa\\xfa\\xba\\xbb\\xbb\\xdbh4F+\\x05\\x00\\x04A\\x10\\xc7q\\x10\\x04\\xe3\\x99'\\xa1\\xddn\\x1f\\x1f\\x1f\\x1f\\x1e\\x1e\\x9e\\x9f\\x9f\\x17E\\x1b\\xb4oUC\\x08\\x95\\x16U\\n!D\\xa7\\xd3\\t\\xc3\\xb0\\xddn\\x97\\x90Z^c\\x0c\\xc6\\x18c<%i\\x92$q\\x1c\\xbb\\xae\\xeb\\xban\\xb1\\x94\\x01\\xa9\\xd6:\\xcb2\\xc7q\\x10BS\\x92*\\xa5\\xb4\\xd6\\xe3!\\x83\\xa2\\xec\\x1c!\\x84\\xa5\\x03\\xcdQ\\xac\\xc8*\\x96e\\xd9\\x88b=R)\\xe5\\xe7\\xe7\\xa7\\x10\\xe2\\xf9\\xf9\\xb9\\xd9lRJ\\xb5\\xd6\\xaa\\x0f+\\x0b\\xa5\\xb4R\\xa90\\xc6<\\xcfs]\\x17c\\xfc\\xfd\\xfdm}\\xad\\x94*!\\xf5}\\xff\\xfe\\xfe>\\x8a\\xa2\\x9b\\x9b\\x9bV\\xabe\\x8c1\\xc6\\xe8>\\x00\\x00\\x8e\\xe3\\x10B(\\xa5VA\\x9bC)\\xf5\\xf3\\xf3#\\x84\\x18\\xe9\\xacG\\x8a\\x10\\xaa\\xd7\\xeb\\x18\\xe3\\xb5\\xb5\\xb5\\xad\\xad-\\xcf\\xf3\\xec\\xc4\\x18c\\x8c1\\x00@\\x9a\\xa6a\\x1fR\\xca4M\\xa5\\x94\\xb6\\xf1\\xdc9\\xa3\\xa4\\x10\\xc2\\xe5\\xe5e\\xc6\\xd8\\xfe\\xfe\\xfe\\xc1\\xc1\\x01\\xa5\\x14!\\x94\\x97\\x06\\x00\\xd0Z\\x07A\\x10\\x04A\\x14EB\\x08\\xce\\xb9\\x94\\xf2\\xe3\\xe3\\xa3\\xd9l\\xde\\xde\\xde*\\xa5\\x84\\x106\\xfd\\x90\\xa6Y\\x96\\xb9\\xae\\xdbh4666\\x08!\\xe3#\\x9a\\x9f\\x9f\\x07\\xc3\\x8f\\xc0\\xcb\\xcb\\xcb\\xd9\\xd9\\x19\\x84\\x10!T<\\xef\\x91&I\\x92$\\t\\xc6\\xd8\\xf3\\xbc\\xff\\x9b\\x7f\\xd2\\xf4mC\\x16=\\x9fr\\xce\\xd34\\xb5-O\\xbfQJ))\\xa5\\xe38\\x10\\xc2\\x12\\xf3[\\xdf@\\x08\\x1d\\xc7\\x99\\xc0P\\x02+.!$Ws\\x88Tk-\\x84\\x98iG\\x01\\x00i\\x9ar\\xce\\xc7\\xa3\\x06\\x95*\\xa5\\x10B3\\x91\\xdaR\\xacm\\x8b\\xe7\\xbd\\x8f\\\\rPx\\xb1r\\x8c\\x0c'\\xbf`=c\\x8c\\x19\\x11m`~[\\xef\\xdb\\xdb\\xdb\\xd5\\xd5\\x95\\x15\\x1e!d\\xf7\\x87\\x10bM\\x93\\xa6i\\x1c\\xc7\\xbe\\xef\\xff\\xfe\\xfev\\xbb\\xdd\\x87\\x87\\x87n\\xb7+\\x84\\x90R\\x96\\x90\\xda\\xb08\\x8eOOO///a\\x1f\\x84\\x10\\xd7u\\xed.\\xd8f\\xe38\\x0e\\xc3\\xd0\\xf7}\\xbb\\x08\\x9cs\\xc6X\\xd1O\\x03\\xd2\\xd5\\xd5\\xd5\\x9d\\x9d\\x9d\\xa7\\xa7'{\\xd5\\xf6k\\xd7_Ji\\x9f\\x02\\x00\\x00\\xc6\\x98\\x10R\\xadVk\\xb5\\xda\\xfa\\xfa\\xfa\\xd2\\xd2\\xd2\\xc2\\xc2\\xc2\\xe6\\xe6\\xe6\\xde\\xde^Q\\x01h\\xd5QJ\\xbd\\xbf\\xbf\\xdf\\xdd\\xdd\\x85a\\x98kd\\x8c\\xe1\\x9c\\xe7\\x0f\\x15\\x00\\x80R\\xca\\x18\\x9b\\x9b\\x9b\\xab\\xd7\\xeb+++\\x8b\\x8b\\x8b\\xd5j\\xb5R\\xa9PJ\\x8b\\xba\\xc3|&V\\xf2\\xd2)\\x17\\xe7\\x96+\\x03&\\xfc\\x1b\\x0e\\x91\\xfe!f\\xd8\\x9f\\xe9\\xf1\\x0f\\x0e\\xb2\\x1b\\xf6\\x9a\\xa6Op\\x00\\x00\\x00\\x00IEND\\xaeB`\\x82\",\n",
              " 'test_b4.png': b'\\x89PNG\\r\\n\\x1a\\n\\x00\\x00\\x00\\rIHDR\\x00\\x00\\x00\\x1c\\x00\\x00\\x00\\x1c\\x08\\x02\\x00\\x00\\x00\\xfdoH\\xc3\\x00\\x00\\x00\\tpHYs\\x00\\x00.#\\x00\\x00.#\\x01x\\xa5?v\\x00\\x00\\x00qIDATH\\x89\\xed\\x94K\\x0e\\x80 \\x0cD\\x1d\\xe3\\xfdo\\xdc\\x8c\\x0bwJ\\xa6\\x1f!\\x8aq\\x96\\x04\\x1e\\x94>\\x00\\xc9\\xa5w\\xd6\\xee\\xc4\\x044U\\xd0\\x90\\x93b\\xf2;\\x05\\x00@,\\xd3\\x13\\x1e\\xed\\xfe\\xeb\\xa1$\\xcd,\\x0bm+\\xa5\\xbbt\\xda\\xf5:8\\xa4\\xfc\\xadp\\x90#E\\xa5\\xca\\x8f\\xed3J\\xd5\\xe24\\xaa\\x19W8\\x1f\\x1aw6\\x04\\x158-F\\xb4\\xfc\\x94^\\xb3\\xff\\xfc?\\xf4Nv\\x14\\xca$0\\xa9\\xff\\x1c\\x88\\x00\\x00\\x00\\x00IEND\\xaeB`\\x82',\n",
              " 'test_b5.png': b\"\\x89PNG\\r\\n\\x1a\\n\\x00\\x00\\x00\\rIHDR\\x00\\x00\\x00\\x1c\\x00\\x00\\x00\\x1c\\x08\\x02\\x00\\x00\\x00\\xfdoH\\xc3\\x00\\x00\\x00\\tpHYs\\x00\\x00.#\\x00\\x00.#\\x01x\\xa5?v\\x00\\x00\\x02\\xc0IDATH\\x89\\xd5\\x95\\xcfJ\\xfb@\\x10\\xc7w7\\x9b\\xd8\\xc4hm/EE)\\x88\\xd0cA\\xd0\\xb3\\x07\\xdf\\xc1\\x837\\x1f\\xc2[O>\\x81\\x0f\\xe0\\xd9\\xa7\\xf0\\xd2\\x16\\xf4\\x05T\\x04QJJ\\x9aBcL\\x9a\\xff\\x99\\xdd\\xdfa\\xa0\\xf0K\\n\\xb9xqN\\xcb\\xb0\\xf3\\xd9\\x9d\\xefw\\xb2\\xa1RJ\\xf2\\xdb\\xc1~\\x9d\\xf8\\xa7\\xa0\\xbc\\x9a\\x02\\x80$I\\x00@\\xd7uUU\\xd7\\x96\\x15E\\x11\\xc7\\xb1\\x10B\\xd7uM\\xd3j\\xa0\\x000\\x99L\\xc6\\xe3\\xb1\\xef\\xfb'''\\xfd~\\x7fcc\\xa3J\\xfc\\xf8\\xf8\\x18\\x0e\\x87q\\x1c\\x9f\\x9d\\x9d\\xf5\\xfb\\xfd2W\\xfe\\x1f\\x9e\\xe7\\xdd\\xdd\\xddu\\xbb\\xddV\\xabuuu5\\x99Ld%\\\\\\xd7\\xbd\\xbd\\xbd\\xdd\\xdf\\xdfo\\xb7\\xdb\\xd7\\xd7\\xd7\\x96e\\x956\\x945\\xf5}\\x7f4\\x1aY\\x96\\xe5y\\xde\\xd3\\xd3\\xd3t:\\xad\\xf6\\xbeX,F\\xa3\\xd1l6\\xf3<\\xef\\xf9\\xf9y6\\x9b\\x956\\x94\\xa1I\\x92\\xcc\\xe7s!\\x84\\x942\\x0c\\xc38\\x8e\\xab\\xd0(\\x8a\\x1c\\xc7\\xc1K\\xc5q\\\\\\x14E\\r\\xb4(\\x8a4M\\xa5\\x94\\x94REQ\\x18[3\\x1ei\\x9a\\x86a(\\x84 \\x84h\\x9aV5\\xaa\\\\\\x93\\xe7y\\x92$\\x94RB\\x08\\xe7\\xbcZ@\\x08\\xf1}?\\x08\\x02B\\x08\\xa5\\xb4\\xd9l\\xea\\xba^\\xdaPv?\\xcb2\\x9c\\x15<`<\\x1eO\\xa7\\xd3<\\xcf\\xa5\\x94\\x8a\\xa2PJ\\xf3<\\x1f\\x0e\\x87\\xdf\\xdf\\xdf\\x84\\x10)\\xe5\\xee\\xee\\xee\\xd6\\xd6V\\rt\\xb9\\\\b\\x01!\\xc4\\xb6\\xed\\xc1`\\x80\\x07\\x08!\\x18c\\x8c1!DQ\\x14\\x00\\x807=::\\xda\\xde\\xde\\xae\\x81\\xba\\xae\\x8b\\xad!h\\xadQ\\xab`\\x8cu\\xbb]\\xc30j\\xa0\\xd52\\xd4\\x17\\x03\\x9f4\\xf4\\x9d\\x10\\xa2\\xaaj\\xa7\\xd3Q\\x14\\xa5\\x06\\xba\\xb9\\xb9i\\x18F\\x14E\\x94\\xd2v\\xbb}~~~pp`\\x9a&c\\x0c\\x00\\x00 \\x08\\x82\\xc7\\xc7\\xc7\\xd7\\xd7WB\\x88a\\x18\\xd5\\xde\\xd7@9\\xe7\\xab\\xab\\xf5z\\xbd\\x9b\\x9b\\x9b\\xe3\\xe3cL\\xe2\\xf0~}}\\xbd\\xbc\\xbc\\xbc\\xbd\\xbd\\t!8\\xe7\\x9c\\xaf\\xe9\\xb5\\x9c\\x12B\\xa03\\xd8]\\x96e\\xf3\\xf9<\\x0c\\xc3(\\x8a\\xf0\\x95q\\x1c'\\x08\\x02\\x1c\\xe4\\x95\\x0e5P\\xb4\\x15\\x85{\\x7f\\x7f\\x1f\\x0c\\x06\\x00\\xe0\\xba\\xee\\xcf\\xcfO\\x9a\\xa6\\x00\\x80\\xee!\\x14;\\xab\\x87j\\x9a\\x86\\xc2SJm\\xdb\\xb6m{u\\x06.V\\xe2H)wvv\\xaaCJ\\xaa_T\\xa7\\xd39<<,\\xb5\\x86\\x0bJ)\\xe6qm\\x9a\\xe6\\xc5\\xc5\\xc5\\xde\\xde^\\x15JK\\xa2\\x04A\\xf0\\xf0\\xf0p\\x7f\\x7f\\xff\\xf9\\xf9\\x99e\\x19cLUUt\\xd94\\xcdF\\xa3\\x01\\x00Y\\x96\\x19\\x86qzzzyy\\xd9\\xeb\\xf5\\xaa\\n\\x94\\xa1R\\xca\\xe5riY\\x96\\xe38I\\x920\\xc64Mk4\\x1a\\xa6i\\xaa\\xaa\\xca9\\x97R\\x02\\x00\\xe7\\xbc\\xd5j5\\x9b\\xcd\\xea\\x90\\xae\\x81\\xfeJ\\xfc\\x9d\\xbf\\xe9\\xdf\\x81\\xfe\\x03\\xc8\\r\\xd8\\xf0\\xdeq\\xe5\\x14\\x00\\x00\\x00\\x00IEND\\xaeB`\\x82\",\n",
              " 'test_bb1.png': b'\\x89PNG\\r\\n\\x1a\\n\\x00\\x00\\x00\\rIHDR\\x00\\x00\\x00\\x1c\\x00\\x00\\x00\\x1c\\x08\\x02\\x00\\x00\\x00\\xfdoH\\xc3\\x00\\x00\\x00\\tpHYs\\x00\\x00.#\\x00\\x00.#\\x01x\\xa5?v\\x00\\x00\\x032IDATH\\x89\\xd5\\x95=O\\xeb0\\x14\\x86\\xe3\\xc4n\\xd3\\x9a\\xa6-\\x1fba\\x00\\xf1\\x1bX)\\x13\\x13\\x0b\\x0b\\xff\\x84_\\x81:\\xb32 \\x16v\\x90`\\x00QA\\x80\\t\\xa9\\xb4C\\xa5\\x02\\x15\\x94\\x08\\x95\\x8a\\xc6M\\x13\\xc7\\xb1\\xe3;X\\xf4\\x86B\\xb9\\xba\\x1f\\xcb=\\xe3k\\x9d\\xc7\\xc7\\xe7\\xbc:\\x06RJ\\xed_\\x87\\xfe\\xcf\\x89\\xff;\\xf4\\xcb.K)\\x85\\x10\\x7f\\x02\\x15B\\xbc\\xbe\\xbe6\\x9bM\\xdf\\xf7\\x93z\\x10\\x04\\xb7\\xb7\\xb7\\'\\'\\'\\x9dN\\xe7\\xb7\\xa1\\xae\\xeb\\x1e\\x1c\\x1clmm\\xd5j\\xb5d\\xbd\\xedv{{{{ss\\xf3\\xea\\xea*\\xa9s\\xce\\t!\\x8c\\xb1\\xef\\xa0\\xbd^\\xef\\xec\\xec\\xec\\xf4\\xf4\\xb4^\\xaf\\'\\x93]\\xd7m\\xb5Z\\x84\\x90n\\xb7;\\xd4\\xa5\\x94www;;;\\x97\\x97\\x97A\\x10\\x8c\\x852\\xc6|\\xdf\\xa7\\x94\\x0e\\x06\\x83\\xa4\\x1e\\x86!\\xa5T\\xd7u\\x84\\xd0P\\x14B\\xd8\\xb6].\\x97www\\x1d\\xc7\\x19\\x0bE\\x08\\x19\\x86\\x11\\xc7q\\x1c\\xc7CQJ\\x19E\\x11cL\\x9d\\x0eu\\x00\\x80Jyxx\\xe8v\\xbbI\\x0e\\x1c\\x81\"\\x84\\x84\\x10Q\\x14I)\\xd5K\\xe38\\x96R\\xc6q\\x0c\\x00\\x10B\\x08!\\x94\\xce9O\\xa5R\\x08\\xa1\\xcf/\\xfb\\x00\\xcdf\\xb3\\x08\\xa10\\x0c\\xef\\xef\\xefonn8\\xe7A\\x100\\xc6\\xaa\\xd5\\xaa\\xe7y\\xddn\\xf7\\xfa\\xfa\\xda0\\x0c\\xce\\xb9\\xe7y\\x9e\\xe7U\\xabU\\xdf\\xf7]\\xd7\\xf5<OJ\\xa9j\\x1f\\x85\\x02\\x00\\x08!\\x83\\xc1\\xe0\\xf0\\xf0\\xb0\\xd1hp\\xce\\x19c\\x8c1\\xd7u\\x1d\\xc7\\xf1}\\x7f\\x7f\\x7f\\xff\\xf8\\xf8X]F)U\\xbd\\xe6\\x9c\\xbf\\xbd\\xbd\\x8d\\x85j\\x9aF)\\x15B(\\x84i\\x9a\\x08\\xa1t:\\r!\\x84\\x10J)\\x11B\\xc5b1\\x95Ja\\x8c-\\xcb\\x02\\x00\\xd4\\xeb\\xf5v\\xbb\\xdd\\xef\\xf7\\x93n\\xf9\\x00\\xc5\\x18/--\\xd9\\xb6=;;\\xbb\\xbe\\xbe\\xbe\\xb0\\xb0\\x90N\\xa7M\\xd3$\\x84\\xec\\xed\\xed\\x9d\\x9f\\x9f\\xaf\\xae\\xaenlld2\\x19\\xcb\\xb2r\\xb9\\xdc\\xcb\\xcbK\\xb9\\\\v\\x1c\\'9\\xd8/\\x06\\xb5\\xb8\\xb8833399Y*\\x95\\x96\\x97\\x97\\x95\\xde\\xe9tl\\xdb\\xb6m{~~~eeEy\\x00\\x00\\xc0\\x18\\x03\\xef1\\x16\\xaa\\xebz.\\x97\\xc3\\x18\\x0f\\x06\\x83 \\x08t]\\x1f\\xfaF\\xb9By`\\x880\\x0cC\\xd7\\xf58\\x8eG\\xd6\\xc2\\xe8B\\xc1\\x18c\\x8c)\\xa5j\\xa0\\xc9d\\xed}\\xd7\\xc8\\xf70M3\\x93\\xc9(\\x0b\\x8e\\xad\\x14\\x00\\x90\\xcb\\xe5\\xb2\\xd9l\\x18\\x86\\x9e\\xe7\\r;5d\\x11B\\x9a\\xcd\\xe6\\x90B)5\\x0c\\x831\\x96\\xac`\\x14\\xaai\\x9aeY\\x96e\\xf5\\xfb\\xfd\\x8b\\x8b\\x0b\\x08\\xa1\\xae\\xebQ\\x14\\x11Bj\\xb5\\x9a\\x10\\xa2R\\xa9<==)\\x87(3<>>*\\xdbFQ\\x04!\\xfc\\x1aZ,\\x16\\xe7\\xe6\\xe6\\xc20<::\\xaaT*\\x9a\\xa6\\xc5q\\x1c\\x86!!\\x04\\x00\\xd0h4Z\\xad\\x16\\x84P\\xcdJ\\x19\\xd94\\xcd\\xa9\\xa9\\xa9\\xef*\\xcd\\xe7\\xf3kkk\\x8e\\xe3t:\\x1d!\\x04\\x00\\x00B\\x98\\xcdf\\xf3\\xf9|\\xa1P\\x98\\x9e\\x9e\\x9e\\x98\\x98PP\\x00\\x00\\xe7<\\x0cC\\x8cq\\xa9T2M\\xf3g\\x1b?\\xefyJ\\xe9\\xf3\\xf3s\\xaf\\xd7S\\x8e1\\x0c\\x03c\\\\(\\x14\\xf2\\xf9|*\\x95\\xd2\\xdeW\\x89\\x96\\xf8#\\xd4\\x1d\\xdfA\\xb5O?\\xca\\x88\\r\\x7f\\x19_C\\xff2\\xfe\\xeb/\\xfa\\xef\\xe3\\x07#\\xbd4\\xa5EM\\xef\\x83\\x00\\x00\\x00\\x00IEND\\xaeB`\\x82',\n",
              " 'test_ch1.png': b\"\\x89PNG\\r\\n\\x1a\\n\\x00\\x00\\x00\\rIHDR\\x00\\x00\\x00\\x1c\\x00\\x00\\x00\\x1c\\x08\\x02\\x00\\x00\\x00\\xfdoH\\xc3\\x00\\x00\\x00\\tpHYs\\x00\\x00.#\\x00\\x00.#\\x01x\\xa5?v\\x00\\x00\\x00\\x8aIDATH\\x89\\xe5\\x94Q\\n\\x800\\x0cCW\\xf1\\xfeW\\xae\\xbf\\xa3\\xb6I&\\x13,\\xf6S\\xc7#M\\xb2\\x99\\xbb\\x8f\\xddsl'\\xb6\\x82\\x9e\\xf8\\xb7\\x99\\xa5\\xdfq\\x12\\xaf(\\xb56\\xe9GO+\\x13\\xf1\\x84u?\\xe3i\\xd8\\xe6N \\x95\\xc2\\xc4J\\xd0\\xda\\xfa\\nq\\xe8J\\xe9\\xca\\xf3HJ\\x97\\x88C\\t\\xea\\xc1M%J\\x83\\x893\\x084\\x1aA\\xd3X\\x14n\\t\\x05ASn\\x0e\\xa5\\xd5\\xc1\\xdc\\x04*\\x96\\x11p\\x91\\xa7\\xb4\\x18\\xd5\\x81\\xb2\\xfc\\xe2\\x9b\\x90\\x1e\\xeb\\xf3H\\xff\\x1cz\\x01; Q#\\xb0\\x9e\\x1b5\\x00\\x00\\x00\\x00IEND\\xaeB`\\x82\",\n",
              " 'test_ch2.png': b'\\x89PNG\\r\\n\\x1a\\n\\x00\\x00\\x00\\rIHDR\\x00\\x00\\x00\\x1c\\x00\\x00\\x00\\x1c\\x08\\x02\\x00\\x00\\x00\\xfdoH\\xc3\\x00\\x00\\x00\\tpHYs\\x00\\x00.#\\x00\\x00.#\\x01x\\xa5?v\\x00\\x00\\x03\\x1aIDATH\\x89\\xe5\\x95\\xcdN\\xeaZ\\x14\\xc7\\xbb\\x8bE\\xab6\\xd6R\\n$j\\x05+i\\x8c$&\\xe8D%j\\x1c\\xf9\\x06N\\x9c8\\xf3}|\\x06\\xde\\xc0\\x91\\x0eH$Q\\x13\\xbfb\\xfc\"\\xd0\\x14\\xa9\\x06\\xa8T\\x9bR+\\xb5e\\xef;h<\\xf7\\x1c\\xe8\\xf1x\\x8cwt\\xff\\xa3fw\\xed\\xdf^+\\xeb\\x0b \\x84\\xb0\\xef\\x16\\xfe\\xedD\\x0c\\xc3z>\\xfe\\xed\\xc5\\x01!\\xf4\\xbe]\\xd7m\\xb5Z\\x96e\\xb9\\xae\\x8ba\\x18\\x00\\x80\\xa2(\\x8a\\xa2\\x02\\x81\\xc0GP\\xef>\\x84\\xd0\\xb2\\xacF\\xa3\\xd1h4t]\\xd74M\\xd7u\\xc30^^^\\x0c\\xc3\\xb0,\\xcbq\\x1c\\xef\\rQ\\x14\\xd7\\xd7\\xd7\\x05A\\xf0\\x87\\xda\\xb6\\xad(\\x8a$I\\xb5ZM\\xd3\\xb4j\\xb5\\xaa\\xaa\\xea\\xe3\\xe3\\xe3\\xf3\\xf3s\\xb3\\xd94M\\xb3\\xd5j9\\x8e\\x13xW\\xbb\\xdd~}}\\xcd\\xe7\\xf3\\x93\\x93\\x93\\xf1x\\xfcgg\\xff\\x85\\xaa\\xaa\\x9a\\xcdf\\xf7\\xf6\\xf6TU5M\\xd3q\\x9c`0\\xd8\\xdf\\xdfOQT4\\x1ae\\x18\\x86a\\x18\\x9a\\xa6)\\x8a\\n\\x06\\x83\\x18\\x86\\x9d\\x9e\\x9e\\xe6r9\\xef\\x10\\xc7q\\x1fO\\x11B\\x08!\\xc7q\\x08\\x82\\x18\\x1f\\x1f\\x8fD\"\\x91H\\xe4\\x07\\x8ba\\x98p8<44DQToo/\\x00@\\x96\\xe5\\xeb\\xebk\\xd7u\\xe7\\xe7\\xe7S\\xa9\\x14\\x00\\xc0\\x07\\n\\x00\\xe08ncccuu\\x95$I\\x8e\\xe3X\\x96\\xed\\xeb\\xeb\\xf3\\x82\\xeap\\xa4\\xddn\\x1f\\x1f\\x1f\\x1f\\x1e\\x1eF\\xa3\\xd1\\xc5\\xc5\\xc5p8\\xec\\x93\\xdf\\x1f\\x82\\xefB\\xbf\\x17\\x84\\xf0\\xe1\\xe1akk\\x0b\\xc7\\xf1\\xcd\\xcd\\xcdJ\\xa5\\xd2m\\xf3K\\xf6;\\xa2\\xe8.\\x0c\\xd34\\xef\\xee\\xeevvv\\xf2\\xf9<\\xcf\\xf3\\x99L&\\x16\\x8bu[\\xfe\\xa1N\\xbd\\n\\xb3m\\xfb\\xfe\\xfe\\xfe\\xf2\\xf2\\xf2\\xe2\\xe2\\xe2\\xe4\\xe4\\xe4\\xec\\xecL\\xd7\\xf5L&377\\xd7\\xd3\\xe3C\\xf09\\xf2B\\xb0m\\xbb^\\xafK\\x92T.\\x97+\\x95\\x8a$IWWW\\xf5z\\x1dB\\xe8\\xba.\\x8e\\xe3\\xb3\\xb3\\xb3<\\xcf\\xfb\\xba\\xd2\\tm\\xb7\\xdb\\x8a\\xa2\\x1c\\x1d\\x1d\\x15\\n\\x85R\\xa9$\\xcbr\\xadVk6\\x9b\\x08\\xa1X,\\xb6\\xb2\\xb2\\x02\\x00\\xd8\\xdf\\xdfgYvaaa``\\xe0SP\\xcb\\xb2vww\\xb7\\xb7\\xb7\\xab\\xd5*\\x840\\x12\\x89\\x08\\x82\\xc0\\xf3|\"\\x91H&\\x93\\xa3\\xa3\\xa3\\xd9l\\xd6q\\x9ct:=55\\xf5\\xbb\\x1ctB\\x01\\x00\\xc3\\xc3\\xc3\\x82 \\xa4\\xd3i\\xafU\\xe2\\xf1\\xf8\\xd8\\xd8\\x18\\xc30\\x04A\\x9c\\x9f\\x9f\\x17\\x8bE\\x82 R\\xa9\\x14\\xc7q\\xbeD\\x1f(I\\x92\\xcb\\xcb\\xcb\\xa2(\\xd24\\x1d\\n\\x85\\xbcR\\xf7<\\x82\\x10\\x96J\\xa5r\\xb9<22\"\\x8a\\xa2\\xd7W\\x9f\\x82\\x06\\x02\\x01\\x96eC\\xa1Pwhooo\\xb2,k\\x9a633#\\x08\\xc2\\x07\\xf5\\xe7?O}/h\\x9aV,\\x16\\x11B\\x82 \\xf8t\\xd1\\x1f\\xa1\\xddB\\x08\\xdd\\xdc\\xdc\\x14\\n\\x05\\x9a\\xa6\\'&&H\\x92\\xfc\\x06\\xa8a\\x18\\x07\\x07\\x07\\x92$%\\x93\\xc9\\xe9\\xe9\\xe9\\x8e\\xa9\\xfc\\x15(BHU\\xd5\\xdb\\xdb\\xdb\\xc1\\xc1\\xc1\\xa5\\xa5\\xa5D\"\\xf1\\xb1=\\xf8\\xe4\\xe2{zz\\xca\\xe5r\\x8a\\xa2\\xac\\xad\\xad\\t\\x82\\xd01\\xb7\\xbe\\x08\\xf5\\x16\\x8c\\xeb\\xba\\xdd\\x1b\\xe9\\xeb\\xd0\\xbf\\xd2\\x7f\\xb2\\xa2\\xff\\xe7\\xd0\\x7f\\x00\\x883\\xca\\xbf\\xc5\\xea\\xbd\\xae\\x00\\x00\\x00\\x00IEND\\xaeB`\\x82',\n",
              " 'test_g1.png': b'\\x89PNG\\r\\n\\x1a\\n\\x00\\x00\\x00\\rIHDR\\x00\\x00\\x00\\x1c\\x00\\x00\\x00\\x1c\\x08\\x02\\x00\\x00\\x00\\xfdoH\\xc3\\x00\\x00\\x00\\tpHYs\\x00\\x00.#\\x00\\x00.#\\x01x\\xa5?v\\x00\\x00\\x00iIDATH\\x89\\xed\\xd3\\xcb\\n\\xc0 \\x10C\\xd1\\xa6\\xf4\\xff\\x7fy\\xba+]\\xf8\\xc8\\x1d\\x14[0Ke\\x0e\\x11U\\x11q\\x8c\\xce9\\\\\\xdc\\xe8\\x7f\\xd0\\xab\\xb8*\\xc9\\x9c/\\xbe\\xc8)M\\x95x\\xfc\\xcf9j\\xb3\\xdf\\xb8\\xa8n\\xcd\\x0c\\xea\\x84\\xa1NM\\x8c\\x9a\\x01\\xa8Y\\x13\\xa0\\xbe\\x08P\\x14\\x0bE5]\\x94\\x06\\xa0\\xed\\x9a\\xef\\xdd\\xcc\\xdf\\xeff\\xf5\\xf17\\xba\\x12\\xbd\\x01\\x1c\\xcb$)\\x97\\xe9\\xc1I\\x00\\x00\\x00\\x00IEND\\xaeB`\\x82',\n",
              " 'test_g2.png': b'\\x89PNG\\r\\n\\x1a\\n\\x00\\x00\\x00\\rIHDR\\x00\\x00\\x00\\x1c\\x00\\x00\\x00\\x1c\\x08\\x02\\x00\\x00\\x00\\xfdoH\\xc3\\x00\\x00\\x00\\tpHYs\\x00\\x00.#\\x00\\x00.#\\x01x\\xa5?v\\x00\\x00\\x02,IDATH\\x89\\xed\\x95=\\xaf)A\\x18\\xc7w\\xc7\"K\"\\x11\\x9a-\\xa8\\xbc\\x84RC\\xa5\\x91\\x88X\\x9dB\\xa1\"|\\x01%\\x9f@\\xe3+h\\x14$\"\\xa2\\xd3P\\x88\\x88JD!\\xa1\\x91H\\x04\\xd9\\xc2\\xcb,\\x163s\\n\\xb9\\'\\xe2\\xec\\xdduONs\\x92\\xfb\\xaf\\xe6\\xc9\\xfc\\x9f\\xdf\\xbc=\\x99\\x87&\\x84P?-\\xf0\\xe3\\xc4\\xffP\\xe6}\\xeb\\xf3\\x93\\x12B\\x1e!\\xc6\\x98a\\x18\\x9a\\xa6U\\xa0\\x84\\x90\\xcb\\xe5\\x02!|\\x84\\x18cI\\x92DQ\\x84\\x10\\x9e\\xcfg\\x84\\x10\\xc6\\xf8z\\xbd\\x8a\\xa2\\xb8^\\xafEQ\\x8c\\xc5b\\x1e\\x8f\\x07\\x00\\xa0\\x04=\\x9dN\\x83\\xc1\\xa0\\xddn\\x9fN\\xa7\\x07\\xf4\\xb1\\x06\\x84P\\x92\\xa4O\\xe8\\xf1x\\x14\\x04\\xe1\\xb1X>\\x9fgYV\\x05\\xda\\xeb\\xf5j\\xb5\\xda\\x03JQ\\x14\\x00@\\xa7\\xd3\\xb1,\\xab\\xd5j\\x01\\x00\\x1a\\x8d\\x06\\x00\\x80\\x10\\xba\\\\.,\\xcb\\x9a\\xcd\\xe6\\xe7m\\xcaCM&S<\\x1e\\xe78n\\xb7\\xdba\\x8c5\\x1a\\r\\xc30\\x06\\x83\\xc1h4j\\xb5Z\\x86a\\x08!\\xf3\\xf9\\xbc\\xd1h\\x10B\\xa2\\xd1(\\xcf\\xf3z\\xbd\\xfe\\xf5\\x06\\xbf\\nc|\\xfb\\xa2\\xfb\\x1fM\\xa7\\xd3l6k\\xb3\\xd9x\\x9e\\xef\\xf5z\\x08\\xa1\\x97t\\xf9\\xd7\\xa7i\\x9aa\\xe4\\xa7\\x04Ah\\xb5Z\\x9dN\\xc7b\\xb1$\\x12\\t\\x9f\\xcf\\xf7rv\\xea_\\xebt\\xbf\\xdf7\\x9b\\xcdj\\xb5\\x8a1\\xe6y>\\x14\\n\\x19\\x0c\\x06\\x19\\x9f\\xec\\xf1e\\x05!\\xac\\xd7\\xeb\\x81@\\xc0d2\\xa5R\\xa9\\xc9dr\\xbf\\xdfe\\x9d\\xefB\\x11B\\xfd~?\\x12\\x89\\xd8\\xed\\xf6D\"1\\x1c\\x0eo\\xb7\\xdb\\xdf\\xccoA\\x11B\\xb3\\xd9,\\x93\\xc9X,\\x96H$\\xd2\\xedv%IR\\xf0\\xbf\\x05],\\x16\\xb9\\\\\\x8e\\xe38\\xaf\\xd7[.\\x97!\\x84\\xca~u\\xe8n\\xb7+\\x95JN\\xa7\\xd3\\xe1p\\x14\\x8b\\xc5\\xedv\\xab\\x9a\\xa2\\x02=\\x1c\\x0e\\x95J\\xc5\\xef\\xf7\\xdb\\xed\\xf6B\\xa1\\xb0\\\\.U\\x89*P\\x8c\\xf1p8\\x0c\\x87\\xc3V\\xab5\\x99L\\x8e\\xc7c\\x8c\\xf1;P\\xa5:%\\x84\\x08\\x82\\xb0Z\\xad\\x82\\xc1`:\\x9dv\\xbb\\xdd/_\\xdc\\x8b\\xf9sL\\x13\\xc5\\xc6\\xb7\\xd9lF\\xa3\\x11\\xc7q.\\x97\\xeb\\xf9\\x1fR\\x96\\n\\x94\\xa2(\\x84\\x10\\x00@a\\x8f\\xdf\\x81~C\\xbf\\xa7\\xf1\\xfd\\x1e\\xe8\\x0704\\x1cxu\\x117\\xda\\x00\\x00\\x00\\x00IEND\\xaeB`\\x82',\n",
              " 'test_gg1.png': b'\\x89PNG\\r\\n\\x1a\\n\\x00\\x00\\x00\\rIHDR\\x00\\x00\\x00\\x1c\\x00\\x00\\x00\\x1c\\x08\\x02\\x00\\x00\\x00\\xfdoH\\xc3\\x00\\x00\\x00\\tpHYs\\x00\\x00.#\\x00\\x00.#\\x01x\\xa5?v\\x00\\x00\\x02\\xecIDATH\\x89\\xd5\\x95KK\\xeb@\\x14\\xc7\\x9b\\xc7453&\\xb1>\\x1b\\xab\\x06\\x1f\\x05\\xa1 b\\x05\\x17\\x82\\xc5\\x8d;?\\x80k?\\x99;\\xb7\\n\\xdd\\xb9p\\xad\\x10|\\xa1\\xa0\\xc6(\\x82\\x86\\xa45\\x06\\x93\\xe6\\xd1\\xcc\\xdcE/mh\\xad\\xbd\\xde{7\\xce*\\xcc?\\xe77s\\xce\\xff0\\x87\"\\x84\\xa4\\xfe\\xf7\\xa2\\xff;\\xf1GA\\xd9/4BH\\xb3\\xe2\\x18\\xe3T*EQ\\x14EQM)\\xf9\\xdd\\x07\\x8a1\\xc6\\x18\\x13B\\x82 p\\x1c\\xa7Z\\xadV\\xabU\\xd34-\\xcbb\\x18f``\\x00B\\xc8\\xf3<\\xcf\\xf3\\x10B\\x84\\x10\\xcf\\xf3\\x92$!\\x84:\\x0ehC=\\xcf\\xbb\\xbc\\xbcTU\\xd5\\xb2,\\xdb\\xb6\\xdf\\xde\\xdej\\xb5\\x9am\\xdb\\x86a\\x98\\xa6\\t\\x00\\x18\\x1c\\x1c\\x84\\x10f2\\x19\\x8e\\xe3\\x9at\\x08\\xe1\\xda\\xda\\xda\\xf6\\xf6\\xf6\\xf8\\xf8x\\x92\\xdb\\x86\\x9a\\xa6\\xb9\\xb7\\xb7W\\xa9T\\\\\\xd7m4\\x1a\\x00\\x80L&\\x03!\\x8c\\xa2\\xc8\\xf3<I\\x92\\x86\\x87\\x87i\\x9a\\xae\\xd7\\xeb\\xef\\xef\\xefA\\x10\\xf8\\xbe\\xef\\xfb\\xfe\\xd9\\xd9Y\\xa1P\\x18\\x1b\\x1b\\xfb\\x1c*\\x08\\xc2\\xc6\\xc6\\x06\\xc30q\\x1c\\x8b\\xa2(\\x08B6\\x9b\\x85\\x10\\x9e\\x9e\\x9e\\xee\\xef\\xef+\\x8a\\xb2\\xbb\\xbb;99\\xe9y\\x9e\\xef\\xfb\\xae\\xeb^\\\\\\\\T*\\x950\\x0c\\x1d\\xc7\\xe9\\x99\\xbe(\\x8a[[[\\xeb\\xeb\\xeb,\\xcb\"\\x84\\x00\\x00\\x14Ea\\x8c\\xc30<<<D\\x08-..\\xae\\xae\\xae6\\x7f\\x8e\\xe3\\xf8\\xe0\\xe0\\xe0\\xe8\\xe8(\\x9dNs\\x1c\\xd7\\x13J\\xd3\\xb4 \\x08\\x82 tX\\x19\\xc71\\xc6\\x98eY\\x00\\x00M\\xffnABH3}A\\x108\\x8e\\xeb\\x08\\xe9\\xd3\\xa7\\x84\\x10\\xdb\\xb6\\x9b\\xc1\\xa2(&%\\xdf\\xf7\\xc30D\\x08A\\x08\\xbf\\x07\\xfd\\xf8\\xf80\\x0c#\\x08\\x02Y\\x96\\xb3\\xd9lRr]\\xb7yXwr}\\xa0\\x86a\\xe8\\xba\\xceq\\\\>\\x9fG\\x08\\xb5\\xf6\\xe38v\\x1c\\'\\x08\\x02I\\x92$I\\xfa\\x06\\x94\\x10rww\\xa7\\xeb\\xfa\\xc8\\xc8\\x88\\xa2(,\\xdb6\\xc0q\\x9c\\x97\\x97\\x97F\\xa3!\\xcbrGY\\xfa@}\\xdf\\xbf\\xbe\\xbe6\\x0cCQ\\x94\\xb9\\xb9\\xb9\\x96\\xc5\\x84\\x10]\\xd75M\\x13EQ\\x96\\xe5t:\\xfd\\r\\xe8\\xf3\\xf3\\xb3\\xaa\\xaaQ\\x14---\\xcd\\xcc\\xcc\\xb4\\xf61\\xc6\\xf7\\xf7\\xf7\\x8f\\x8f\\x8f\\xf9|~vv\\xb6\\xd5\\x12\\xfd\\xa1a\\x18\\x9e\\x9c\\x9c\\x9c\\x9f\\x9f\\xcb\\xb2\\\\*\\x95\\x92\\x05\\xad\\xd7\\xeb777\\xb5Zmaaa~~\\xbe;\\xb6\\'\\xf4\\xf5\\xf5\\xf5\\xf8\\xf8\\xd8\\xb2\\xac\\x95\\x95\\x95\\xe5\\xe5\\xe5\\xe4u4MSU\\x95\\x10R,\\x16\\'&&\\xfe\\x14\\x8a1~zz\\xba\\xba\\xba\\xca\\xe5r\\xe5r9\\x19\\x19\\xc7\\xf1\\xed\\xed\\xad\\xa6i\\x85B\\xa1T*uw~\\xaa\\xd7{JQ\\xd4\\xd4\\xd4\\xd4\\xce\\xce\\x0e\\xcf\\xf3\\xe5r\\x19\\x00\\x90\\x94\\x86\\x86\\x86\\xa6\\xa7\\xa7777\\x8b\\xc5b\\xd2\\xbd\\xf6k\\xdbk\\xf0EQ\\xe4\\xba.\\xc30\\x10\\xc2\\x0e+l\\xdb~xx\\xc8\\xe5r\\xa3\\xa3\\xa3\\x0c\\xc3|r\\xa7\\xbf\\x9b\\xa6\\x18\\xe3n\\xd3\\xff\\x15\\xfa\\xf5\\xfa9\\xd3\\xf4\\xe7@\\x7f\\x01\\xe8\\x0bbN\\xb0\\xaf\\xd2*\\x00\\x00\\x00\\x00IEND\\xaeB`\\x82',\n",
              " 'test_gg2.png': b'\\x89PNG\\r\\n\\x1a\\n\\x00\\x00\\x00\\rIHDR\\x00\\x00\\x00\\x1c\\x00\\x00\\x00\\x1c\\x08\\x02\\x00\\x00\\x00\\xfdoH\\xc3\\x00\\x00\\x00\\tpHYs\\x00\\x00.#\\x00\\x00.#\\x01x\\xa5?v\\x00\\x00\\x00\\x98IDATH\\x89\\xed\\x95\\xc1\\x12\\x80 \\x08D\\xa5\\xf1\\xff\\xbf\\xd8\\x91\\x0eN1C\\x88\\xb0uijoe>V\\xc0 f.Ok{\\x9c\\xf8C\\xabz&\"\\x80\\xa2\\xaa-N[k\\x00\\xce\\x948\\x1d\\xd1\\xcc\\x0e;\\xed\\xab\\xd5\\xd9\\xb1\\xc4i\\xad:\\x15J\\xb3\\x8e\\xbe\\xbe\\x17h6\\x9b\\xce\\xf7w\\xabo\\xda_C\\x81~\\x88:\\r\\x96(\\x07\\x8dD\\x8aB\\xb1\\xbb\\x808]F\\nA\\xb3\\xff\\\\\\x0f\\xea;r\"\\xa5\\x8f\\x1f\\xc9\\xf2\\x1a\\n\\xcc\\x9b\\xb4S>TJ\\xe9\\xbd\\x9b\\xb1\\t\\x1e|c\\xa3\\x99\\r\\x1c\\xea\\xe8=3\\xea\\xe3\\xd0\\x1d\\xa6eB\\x1c3rN\\xe1\\x00\\x00\\x00\\x00IEND\\xaeB`\\x82',\n",
              " 'test_j.png': b'\\x89PNG\\r\\n\\x1a\\n\\x00\\x00\\x00\\rIHDR\\x00\\x00\\x00\\x1c\\x00\\x00\\x00\\x1c\\x08\\x02\\x00\\x00\\x00\\xfdoH\\xc3\\x00\\x00\\x00\\tpHYs\\x00\\x00.#\\x00\\x00.#\\x01x\\xa5?v\\x00\\x00\\x01\\xd0IDATH\\x89\\xed\\xd5=\\x8b\\xe2@\\x18\\x07\\xf0\\x8b\\x1cvbam\\xef\\x07\\xb0\\xd1B\\x05S\\xda\\x05\\xa2)\\x04QA\\xc4N\\xb4\\x13D\\xb1R\\xf1\\x0bX\\xa8\\x8d\\x16\\xa62\\x90\\xc2\\xca\\xcat\\x92F,,\\x04-\\xc4 \\xbe \\x86\\x84qf\\xae\\x08\\x04\\x975/\\xee\\xee\\x15\\x07\\xf7\\xeff\\x9e\\'\\xbf\\x192\\x03C`\\x8c\\x7f\\xfdt\\x1c?.\\xfeG\\x7f?\\x0f8\\x8e\\x93e\\xf9y\\x86 \\x08\\xa3\\x93\\x84\\x10\\xden7\\xad?\\x9b\\xcd\\xba\\\\\\xae\\xd7\\xe8t:\\x05\\x00\\xe8\\x9c>\\xaf\\xb9\\xfa\\x0c\\xc6\\x98 \\x08\\x87\\xc3\\x01\\x00\\x98\\xcf\\xe7^\\xaf7\\x9dN\\x7fX\\x10\\x7f5\\xb3\\xd9,\\x14\\n\\r\\x87\\xc3\\xcf\\xa5/\\xa2\\xa3\\xd1\\xc8\\xef\\xf7\\x0b\\x82\\xf0\\xb2\\xfa6\\xaa\\xaaj\\xa7\\xd3\\xa1iz\\xb5Z\\x19\\xf5\\xbc\\x8d\\xd6j5\\x92$%I2\\xe9\\xf9pP\\xe6\\x91e\\xb9\\xd1h\\x1c\\x0e\\x07\\x96e\\xddn\\xb7Y\\xab\\xcd\\r*\\x8aR(\\x14R\\xa9\\xd4\\xf1x\\xb4l\\xb6u\\xf99\\x8ec\\x18\\x06!\\xd4\\xeb\\xf5<\\x1e\\x8fe\\xbf5*IR\\xbb\\xdd\\x16\\x04\\xc1\\xe9t\\xaa\\xaajg\\x13\\xd6h>\\x9f\\'Ir\\xbf\\xdf#\\x84\"\\x91\\xc8r\\xb9\\xb4VM~\\xcd\\xe9t\\xa2i\\xbaT*\\x01\\x000\\xc6\\x8f\\xc7c<\\x1eS\\x14\\xc5\\xb2,\\x84\\xd0\\xe4C34\\x93\\xc9\\x94\\xcbeM\\xd4#\\x8ab4\\x1a-\\x16\\x8b\\x8a\\xa2\\xbc\\x8d\\xd6\\xeb\\xf5d2iT\\xcd\\xe5r\\x0c\\xc3\\\\\\xafW\\xbb(B\\xa8R\\xa9\\xc4b1\\x93\\x1b~\\xbf\\xdf\\xab\\xd5j\"\\x91X\\xaf\\xd7\\xb6\\xd0n\\xb7\\x1b\\x0e\\x87\\x8d\\xb8\\xe7\\xf4\\xfb\\xfd`0(\\x8a\\xa2\\x19\\n!\\x1c\\x0c\\x06\\xf1x|\\xb3\\xd9\\xd8A1\\xc6<\\xcf\\x07\\x02\\x81\\xc9db\\x88\\xb6Z-\\x9f\\xcf\\xb7\\xddnm\\x8aZ\\x16\\x8b\\x05EQ<\\xcf\\xbfF\\x9b\\xcd\\xe6\\xf9|~K\\xd4\\xb2\\xdb\\xed.\\x97\\x8b>4|-\\xbe\\x93\\x7f\\xe75\\xfd+\\xe8\\x1f\\xf0\\x87D\\xc2K\\x11\\x91\\x10\\x00\\x00\\x00\\x00IEND\\xaeB`\\x82',\n",
              " 'test_j2.png': b'\\x89PNG\\r\\n\\x1a\\n\\x00\\x00\\x00\\rIHDR\\x00\\x00\\x00\\x1c\\x00\\x00\\x00\\x1c\\x08\\x02\\x00\\x00\\x00\\xfdoH\\xc3\\x00\\x00\\x00\\tpHYs\\x00\\x00.#\\x00\\x00.#\\x01x\\xa5?v\\x00\\x00\\x03\\xa3IDATH\\x89\\xb5\\x96MH*]\\x18\\xc7g\\xce\\xa8\\x033\\xa3F\\x12e\\x85\\x92\\x11\\x14\\x85\\xdb,\\xaa]\\x10\\x14$\\xd1\"H0\\x8a\\x08WAm\\x92\\xa2\\xa0v\\xed\\xa2\\x85\\xb4\\x8aVE\\xd2J(\\x82\\x04\\x11\\xdaT\\xd4.\\xa4O3\\x8d\\xa4I\\xabI\\xd2\\xf98\\xe7.\\x8e\\xef\\xd8\\xf5\\xbe}\\xbc/\\xdd\\xfff\\x18\\xe6y~\\xe7\\xf9:\\x0fC\"\\x84\\x88\\x9f\\x16\\xf8q\\xe2\\xdf\\x82j\\xf0\\x03B\\x98J\\xa5nnn\\x04A@\\x08\\x91$\\t\\x00 I\\x92\\xa2(l I\\x92,\\xcb\\xb2,\\x13\\x04\\x81\\rH\\x92\\xd4h4,\\xcb\\x9aL&\\xb3\\xd9\\xcc\\xb2l1\\x94\\xe7y\\x9f\\xcf\\xe7\\xf7\\xfb\\xd3\\xe9\\xb4\\xa2(\\xaa\\x0fA\\x10\\x00\\x00\\x84\\x90$I\\xa2(B\\x081\\x91 \\x08|\\xb0N\\xa7\\xab\\xaf\\xaf\\x1f\\x19\\x19\\xe9\\xed\\xed-p\\x11B\\x8a\\xa2\\x1c\\x1d\\x1d\\xd9l6l\\xad\\xaa\\xe8\\xf5#\\x91$\\xe9p8\\xce\\xcf\\xcf\\xd1?\\xca\\xd7\\x94\\xa6\\xe9\\xd2\\xd2\\xd2\"\\xebo\\x0e\\x06B(\\x9dN\\x8b\\xa2\\xf8[\\xfa\\x00\\x00\\x8b\\xc5211\\x11\\x08\\x04\\x12\\x89\\x04>M\\x96eI\\x92 \\x84\\x8a\\xa2\\x00\\x00h\\x9afY\\x96\\xa6iA\\x10...\\x1e\\x1e\\x1e\\x14E\\xc1\\x08\\x86a\\xba\\xbb\\xbb+**\\n\\xb1\\xe3p\\x10B\\x99L&\\x95Je\\xb3Y\\\\5\\x08!n\\x0b\\x84\\x10B\\xa8\\xd3\\xe9p\\x95|>\\xdf\\xc9\\xc9\\t\\xfeDQT]]\\x9d\\xcb\\xe5r\\xb9\\\\\\x16\\x8b\\xa5P.\\xf4=\\xf1<\\xbf\\xba\\xbaj\\xb7\\xdb\\xd5y\\xa0i\\xda\\xe9t\\x06\\x83\\xc1\\x97\\x97\\x17\\xdc@U_CeY\\x8eF\\xa3333\\x95\\x95\\x95j,z\\xbd~tt4\\x12\\x89\\xc8\\xb2\\xfc\\xa7\\xcb\\x17\\xd0l6{xx888\\xc8q\\x9cJ,++\\xf3z\\xbdWWWE\\x01~\\x0b\\x9a\\xc9d\\xb6\\xb7\\xb7;::\\xb4Z\\xad\\xda\\x04\\xab\\xd5\\xba\\xbc\\xbc\\x9cL&?q\\xfc\\x10\\xfa\\xfa\\xfa\\xea\\xf7\\xfb\\x1b\\x1b\\x1b\\x01(\\\\e\\x93\\xc9466v||\\x8c\\xfb\\xf9\\xdf\\xa0\\x98X___4\\xff\\x00\\x00\\x8e\\xe3\\xda\\xda\\xdaVVVb\\xb1\\x98$I\\xdf\\x85\\xe6r\\xb9\\x9d\\x9d\\x1d\\xbb\\xdd\\x8e\\xaf?A\\x10\\x1a\\x8d\\x06_Y\\xf5\\n\\x19\\x0c\\x86\\xbe\\xbe\\xbe@ \\xf0\\xfc\\xfc\\xfc5T\\x96\\xe5\\xfd\\xfd}\\x87\\xc3\\x81\\xb3&I\\x92\\xe38\\x8f\\xc7\\xe3v\\xbbm6\\xdb{4EQV\\xabu~~>\\x16\\x8b}\\x06\\x85\\x10F\"\\x11\\xa7\\xd3\\xa9:3\\x0c\\xb3\\xb8\\xb8\\x98H$\\xee\\xee\\xee\\xc2\\xe1\\xf0\\xf4\\xf4tMM\\xcd\\xfb\\x9a\\x18\\x0c\\x86\\xc9\\xc9\\xc9x<\\xfe!\\xf4\\xf1\\xf1qjj\\x8aa\\x18\\xec\\xa0\\xd5jggg\\x93\\xc9\\xa4::\\x82 \\x84\\xc3a\\x8f\\xc7\\xc3\\xb2\\xac\\x8a6\\x1a\\x8d^\\xaf7\\x1e\\x8f\\xabf\\x05h6\\x9b\\xdd\\xdc\\xdc\\xac\\xae\\xae\\xc6\\xd6\\x00\\x00\\xb7\\xdb}{{[\\x94\\x9a\\xa2(\\xf7\\xf7\\xf7kkk\\xaa%I\\x92%%%\\xe3\\xe3\\xe3\\xd7\\xd7\\xd7\\x98\\x9b\\x87J\\x92\\x14\\n\\x85\\x9a\\x9b\\x9b\\xd5\\xe6tvv\\x9e\\x9e\\x9e~4\\xde\\xb9\\\\.\\x18\\x0c\\xd6\\xd6\\xd6\\xaa\\\\\\xa3\\xd1\\xb8\\xb0\\xb0\\xf0\\xf4\\xf4T\\x80F\\xa3\\xd1\\xfe\\xfe~u\\xc8\\xab\\xaa\\xaa\\xb6\\xb6\\xb6DQ\\xfcW\\xa2\\x9a\\xd9\\xee\\xeenCC\\x83\\xcamoo?;;\\xcbC\\x15E\\xd9\\xdb\\xdb3\\x9b\\xcd\\x98\\xc8q\\xdc\\xdc\\xdc\\x1c\\xcf\\xf3\\x9f\\x10Un(\\x14jii\\xa1(J\\xa7\\xd3\\xf5\\xf4\\xf4\\\\^^\"\\x844xQ\\xd14\\xcd0\\x0c\\x00\\x80a\\x98\\xa1\\xa1\\xa1\\xe1\\xe1a\\x93\\xc9\\xf4\\xe7>.\\x12M\\xd3\\xad\\xad\\xadKKK\\xeb\\xeb\\xebooo]]]\\xe5\\xe5\\xe5\\xf9}\\x8a\\x10\\xe2y~cc\\xe3\\xe0\\xe0\\xa0\\xa9\\xa9i``\\xe0\\xb7\\xe5\\xf8\\x95dY\\x16\\x04A\\x14E\\xbd^\\x8f\\'\\'\\xbf\\xa4!\\x84\\x82 \\x08\\x82`4\\x1a\\xdf/\\xa4\\xff\\xa7<\\xf4g\\xf5W~&~\\x01\\xbc\\xb9\\xee\\xa7\\xe5\\x01\\x1b\\x0c\\x00\\x00\\x00\\x00IEND\\xaeB`\\x82',\n",
              " 'test_m1.png': b'\\x89PNG\\r\\n\\x1a\\n\\x00\\x00\\x00\\rIHDR\\x00\\x00\\x00\\x1c\\x00\\x00\\x00\\x1c\\x08\\x02\\x00\\x00\\x00\\xfdoH\\xc3\\x00\\x00\\x00\\tpHYs\\x00\\x00.#\\x00\\x00.#\\x01x\\xa5?v\\x00\\x00\\x00dIDATH\\x89\\xed\\x93\\xc1\\n\\xc0 \\x0cC\\xcd\\xd8\\xff\\xffq\\xc9\\xae;\\xc4\\x94a\\xd9&4G\\x95g\\xc4>\\x90\\x1c\\xd59\\xca\\x89\\r\\xdd\\x07z\\xfam\\x00\\xfe\\x80\\x9cH\\xe8\\xd5\\x8c\\xe5\\xb9ISWg~\\xb1\\x83z\\xd9H\\xce\\xb8\\xfb\\xfc~C\\xeb\\xe3F\\xea\\x91\\x02\\xf7|\\xe1\\xfe\\xc8\\x14\\x90\\xd1\\xee/F<?\"\\x16\\xa1o5m\\xe8\\x1f\\xa1\\x17kN!\\'<1\\x07\\x0b\\x00\\x00\\x00\\x00IEND\\xaeB`\\x82',\n",
              " 'test_ng1.png': b'\\x89PNG\\r\\n\\x1a\\n\\x00\\x00\\x00\\rIHDR\\x00\\x00\\x00\\x1c\\x00\\x00\\x00\\x1c\\x08\\x02\\x00\\x00\\x00\\xfdoH\\xc3\\x00\\x00\\x00\\tpHYs\\x00\\x00.#\\x00\\x00.#\\x01x\\xa5?v\\x00\\x00\\x00\\x87IDATH\\x89\\xe5\\xd5\\xd1\\x0e\\x80 \\x08\\x05Pi\\xfd\\xff/\\xd3C[s\\x04\\xd7K8\\x1f\\xd2\\'W\\xed\\xa0\\x08&\\xaa\\xdaf\\x8fc\\xba\\x98@S\\x1b\\x92\\xdfm?5N\\xf0ND\\xde\\x0f\\x99t\\x859uE\\x92\\xf6\\xd1^|>0a\\x80\\xeb\\xe4\\xd4\\x15\\xef9Y*\\xe8\\xa0\\\\\"Z8\\x85V\\xea\\xd7\\xa2\\xf8|\\xc8x\\x0b\\x8b\\xbf\\xd8\\xbb\\x0bW\\xcad6\\x8d\\x16]\\x8b\\xf6\\xd9\\x8c\\xdca\\xbcq\\x9b\\xb6|\\xa7~\\xbcP\\x80\\x88P@\\x0f\\x0bn\\xf3\\xdf\\xc9\\xe6\\xe8\\x05j\\x8aN\\x12<\\x96\\xa8\\xce\\x00\\x00\\x00\\x00IEND\\xaeB`\\x82',\n",
              " 'test_p1.png': b'\\x89PNG\\r\\n\\x1a\\n\\x00\\x00\\x00\\rIHDR\\x00\\x00\\x00\\x1c\\x00\\x00\\x00\\x1c\\x08\\x02\\x00\\x00\\x00\\xfdoH\\xc3\\x00\\x00\\x00\\tpHYs\\x00\\x00.#\\x00\\x00.#\\x01x\\xa5?v\\x00\\x00\\x00NIDATH\\x89c\\xfc\\xff\\xff?\\x03\\xb5\\x01\\x13\\xd5M\\x1c5t\\xe8\\x18\\xca\\x82\\xccadd\\xa4\\xc4,x\\xea\\xa4\\x89K\\x19q%~\\x88\\xab1eq\\x89#\\x83\\xa1\\x13Q\\xa3\\x86\\x0e\\x11C\\xd1\\xd3)y\\x99\\n\\xcd\\x10\\xfa\\xe6(J\\xc0\\xd0\\x89\\xa8QCG\\xb2\\xa1\\x00pS\\x18+\\x81\\xc4\\n\\x8d\\x00\\x00\\x00\\x00IEND\\xaeB`\\x82',\n",
              " 'test_r1.png': b'\\x89PNG\\r\\n\\x1a\\n\\x00\\x00\\x00\\rIHDR\\x00\\x00\\x00\\x1c\\x00\\x00\\x00\\x1c\\x08\\x02\\x00\\x00\\x00\\xfdoH\\xc3\\x00\\x00\\x00\\tpHYs\\x00\\x00.#\\x00\\x00.#\\x01x\\xa5?v\\x00\\x00\\x02\\xbaIDATH\\x89\\xd5\\x95\\xcdJ\\xeb@\\x18\\x863\\x93\\x99L&\\xb1m(\\x15\\xc5\\x9f\\xf8\\xd3vU\\xbb\\x10D\\\\\\tnD\\xf06\\\\x\\x03\\xdeA\\xd7^@/\\xc4\\xb5\\x0b\\x17\\xa2\\xa0\\x1b\\x11\\x17\\x15\\x95\\xb6\\xb1(5\\xd2\\xd0d&I3g\\x11(9\\x9a\\x8a9\\xc7\\x8d\\xdf\"$ax\\xe6\\xfd\\xde\\xcc\\xfb\\x05\\x08!\\xa4\\x9f.\\xf8\\xe3\\xc4_\\x05E\\xa9o\\x85\\x10I\\xaf\\x01\\x00\\x00\\x80\\xff\\x82\\x0e\\x87\\xc3V\\xabeY\\x16\\x00\\x00!D\\x08Q\\x14\\x85R\\xaai\\x9a\\xae\\xeb\\xb9\\\\\\x8e\\x10\"\\xcb2\\x84\\x13\\xbb\\xfc\\x08\\x15Bt\\xbb\\xddf\\xb3y}}-\\x84\\xc0\\x18c\\x8c\\t!\\xaa\\xaa\\x8e\\xa1333\\xeb\\xeb\\xeb\\x9b\\x9b\\x9b\\xf9|\\xfe[P\\x00\\x00\\xc6\\xd80\\x0cJ\\xa9\\xe38\\x9c\\xf3 \\x08\\xc20\\x0c\\x82 \\x08\\x02\\xdf\\xf7}\\xdfG\\x08U\\xab\\xd5F\\xa3\\xb1\\xbd\\xbd\\x9d\\xaa\\x17|>\\xa7\\x8c\\xb1N\\xa7\\xd3n\\xb7]\\xd7\\xf5}?\\x08\\x02\\xce9c\\xcc\\xf7}\\xc6\\xd8\\xe3\\xe3\\xe3\\xe9\\xe9i\\xaf\\xd7k4\\x1a\\x07\\x07\\x07\\xb2,\\x7f\\xcbSUU\\xcb\\xe5r\\xb9\\\\\\x1e\\xef\\x97\\xbc\\xb9\\xb8\\xb8\\xb8\\xb9\\xb9\\xb1m;\\x157\\x11\\x1a\\x9b0\\xbe&K\\x08\\x11\\x86!\\xe7\\\\\\xd3\\xb4\\\\.7\\xe9H\\xa4C%I\\xf2<\\xcf\\xf3<J)!$y\\xa4\\x18ca\\x18b\\x8c\\x15E\\xc9\\xa6\\xf4\\xe5\\xe5\\xe5\\xe4\\xe4\\xe4\\xfc\\xfc|vv\\xb6R\\xa9,--\\x99\\xa69==\\x8d\\x10\\x8a\\xbf\\x1b\\x00 [\\xfbQ\\x14]]]\\x1d\\x1f\\x1f\\xdf\\xdf\\xdfc\\x8cK\\xa5\\xd2\\xfc\\xfc\\xfc\\xf2\\xf2\\xf2\\xc2\\xc2B>\\x9f\\xeft:\\x8e\\xe3(\\x8a\\x02!\\xcc\\xd6~\\xbf\\xdfw]weeeuuu0\\x18\\xf4z\\xbd\\xbb\\xbb;\\xc6\\x18\\xa5\\x14B\\xe8y^\\xa5R)\\x14\\n\\xd9\\xda\\xe7\\x9c\\x03\\x00L\\xd3<<<,\\x14\\n\\x0f\\x0f\\x0f\\x96e\\xbd\\xbe\\xbe\\xbe\\xbd\\xbdy\\x9e\\xa7(\\xca\\xde\\xde^\\xbd^\\xcf\\xa64\\x8a\\xa2(\\x8a0\\xc6\\x8b\\x8b\\x8b\\xb5Zmkkk4\\x1aq\\xce\\x1d\\xc7a\\x8c\\x11BJ\\xa5\\x12!$\\x9b\\xd2\\x98\\x0b\\x00\\x10B\\xc4\\x99\\x91e\\x19c\\xac\\xeb\\xba\\x10\\x02\\x00\\xf0E\\xf0\\'BUU\\xc5\\x18\\x0f\\x06\\x83\\xa7\\xa7\\'\\xc30\\x18c\\x8c\\xb1\\xe1p\\xd8\\xef\\xf7\\xdf\\xdf\\xdf\\xab\\xd5\\xea\\xda\\xda\\x9a\\xae\\xeb\\x19\\xa0\\x10B\\xd34\\xe7\\xe6\\xe6noo\\x9b\\xcdf\\xb1X\\x8c\\x03\\xea\\xba\\xaem\\xdb\\xb6m\\xef\\xee\\xee\\x1e\\x1d\\x1d%\\xa1q\\xe4\\xc6\\x16\\xa7+\\xad\\xd7\\xeb\\xfb\\xfb\\xfb\\xedv\\xfb\\xf2\\xf2\\x12B\\x88\\x10\\x8ag\\xd5\\xd4\\xd4\\xd4\\xc6\\xc6\\xc6\\xce\\xceN\\xb1XL\\xae\\x1f\\x8dF\\xf1H\\x8b\\x1fS\\x06J\\xbc\\xf3\\xf3\\xf3\\xf3\\xd9\\xd9\\x99eY\\x92$!\\x84TU\\xa5\\x94\\x1a\\x86\\x11\\x07!\\x99\\xd1(\\x8a\\\\\\xd7\\xd54mlt:t\\xbc\\xfa\\xc3\\xfc\\x8f\\xcd\\xf9\\xac@\\xfa{P|\\x05\\xfd\\xe7\\xfa=\\x7f\\xd3\\xdf\\x03\\xfd\\x03\\x8d\\xf7R\\x8e\\x80\\x1d\\xbe\\x01\\x00\\x00\\x00\\x00IEND\\xaeB`\\x82',\n",
              " 'test_r2.png': b'\\x89PNG\\r\\n\\x1a\\n\\x00\\x00\\x00\\rIHDR\\x00\\x00\\x00\\x1c\\x00\\x00\\x00\\x1c\\x08\\x02\\x00\\x00\\x00\\xfdoH\\xc3\\x00\\x00\\x00\\tpHYs\\x00\\x00.#\\x00\\x00.#\\x01x\\xa5?v\\x00\\x00\\x00\\xa1IDATH\\x89\\xedU\\xcb\\x0e\\x80 \\x0c\\x03\\x91\\xff\\xff].0\\x0f$d26\\x19\"\\t\\x89=\\xe1\\xc0\\xb6{\\xa0\\x16\\x00\\xccl\\x1c\\xd3\\x19\\x7f\\xd2OHO\\x1a\\xb2\\xd6V\\x11<!x\\x97\\x9b\\x9c\\x06i\\x8f\\x8c\\x8c\\x06)\\xe7\\xeb\\x15)\\'\\x80!\\x8b\\xadj\\x94\\xe9\\xeb\\x86\\x9a\\x94\\x13\\xc8\\x1a\\x8f\\x85V\\xa7\\xdf\\xd3:\\xc9i\\x958\\xb5<B*k\\x08X~\\xf7\\xc7&\\xdf\\xa8\\xd2\\x97\\xbf\\t\\xb7\\x93cw\\xa6\"\\xcd\\x8b\\xf2\\x8a\\xc2\\xa9\\xe0.\\xc6\\x08\\x00\\xde\\xfb\\xfc\\xc8\\xd6\\x14\\x18\\xd0\\x93)\\xa5\\x10\\x82s\\xaeD\\xd8\\xf4\\xb5\\xdeq\\xb9&\\x90R\\xec\\xf3\\x8f\\xda\\x87\\xf4\\x02\\xf4\\xa1Z\\x16\\xf6\\x11\\x9f\\xf2\\x00\\x00\\x00\\x00IEND\\xaeB`\\x82',\n",
              " 'test_s1.png': b'\\x89PNG\\r\\n\\x1a\\n\\x00\\x00\\x00\\rIHDR\\x00\\x00\\x00\\x1c\\x00\\x00\\x00\\x1c\\x08\\x02\\x00\\x00\\x00\\xfdoH\\xc3\\x00\\x00\\x00\\tpHYs\\x00\\x00.#\\x00\\x00.#\\x01x\\xa5?v\\x00\\x00\\x00vIDATH\\x89\\xed\\xd5;\\x0e\\xc0 \\x0c\\x03\\xd0\\xba\\xea\\xfd\\xaf\\x1c6\\x84JHl\\x94\\xa9%+\\xe2\\tb>0\\xb3\\xab\\xba\\xeer\\xf1\\xa0\\x9fD\\x01\\x00\\xa8DINC\\xa5\\xa2\\xd0\\xbeL\\xf2\\xfa\\xe5\\xa8*R\\xe8F%\\xe8\\x98\\x0f\\x9fU\\x84\\xceJ\\xe5\\x91\\x1a\\xbb\\xc9\\xb8K\\xf4\\x95\\x8f\\xf4\\xec\\nAu7\\xbdZ>\\xba:Fd\\x1f\\xa2\\x95\\xba[f\\xfa\\xe0\\xa0i\\x14\\xa9\\xfb\\xec\\xcd\\x8cGq~\\xd3\\x1f\\xa3\\r6\\xee-<\\xa0\\x03\\xc8\\xb0\\x00\\x00\\x00\\x00IEND\\xaeB`\\x82'}"
            ]
          },
          "execution_count": 12,
          "metadata": {},
          "output_type": "execute_result"
        }
      ],
      "source": [
        "print(\"Upload images. Image Name should start with 'test_'.\")\n",
        "files.upload()"
      ]
    },
    {
      "cell_type": "markdown",
      "metadata": {
        "id": "FSmhT9PK6oDt"
      },
      "source": [
        "위의 데이터 전처리와 똑같은 방식으로 이미지를 정규화한다."
      ]
    },
    {
      "cell_type": "code",
      "execution_count": 20,
      "metadata": {
        "colab": {
          "base_uri": "https://localhost:8080/"
        },
        "id": "w84_5Yq6EaGu",
        "outputId": "33e0c994-0f61-4fb9-bf2c-8a9ca3d6117e"
      },
      "outputs": [
        {
          "name": "stdout",
          "output_type": "stream",
          "text": [
            "/content/test_b1.png: ㅃ (90%)\n",
            "/content/test_b2.png: ㅃ (97%)\n",
            "/content/test_b3.png: ㅁ (89%)\n",
            "/content/test_b4.png: ㅂ (88%)\n",
            "/content/test_b5.png: ㅂ (92%)\n",
            "/content/test_bb1.png: ㅃ (94%)\n",
            "/content/test_ch1.png: ㅊ (90%)\n",
            "/content/test_ch2.png: ㅋ (95%)\n",
            "/content/test_g1.png: ㄱ (88%)\n",
            "/content/test_g2.png: ㄱ (93%)\n",
            "/content/test_gg1.png: ㄲ (81%)\n",
            "/content/test_gg2.png: ㅈ (78%)\n",
            "/content/test_j.png: ㄱ (72%)\n",
            "/content/test_j2.png: ㅈ (58%)\n",
            "/content/test_m1.png: ㄷ (54%)\n",
            "/content/test_ng1.png: ㅇ (97%)\n",
            "/content/test_p1.png: ㄷ (38%)\n",
            "/content/test_r1.png: ㄹ (92%)\n",
            "/content/test_r2.png: ㅍ (59%)\n",
            "/content/test_s1.png: ㅅ (95%)\n"
          ]
        }
      ],
      "source": [
        "from math import floor\n",
        "\n",
        "uploaded = glob(\"/content/test_*.png\") + glob(\"/content/test_*.jpg\") + glob(\"/content/test_*.jpeg\")\n",
        "uploaded.sort()\n",
        "images  = np.zeros((0, 784)).astype(\"float32\")\n",
        "for u in uploaded:\n",
        "  image = np.array(Image.open(u).convert(\"L\")).astype(\"float32\")\n",
        "  image = np.reshape(image, (784))\n",
        "  image /= 255\n",
        "\n",
        "  images = np.append(images, [image], axis=0)\n",
        "\n",
        "predicted = model.predict(images)\n",
        "for i in range(len(uploaded)):\n",
        "  print(f\"{uploaded[i]}: {jaums_kor[np.argmax(predicted[i])]} ({floor(predicted[i][np.argmax(predicted[i])]*100)}%)\")"
      ]
    },
    {
      "cell_type": "markdown",
      "metadata": {
        "id": "POes3WH16oDt"
      },
      "source": [
        "결과를 확인할 수 있다. 작성자가 그린 이미지는 인식률이 천차만별이었다. ㄱ와 ㅈ을 헷갈리고, ㅂ과 ㅃ을 헷갈리는 것으로 보인다. 포토샵 브러시보다 연필 도구로 그렸을 때 정답을 잘 맞췄다.\n",
        "\n",
        "## 느낀 점 및 결론\n",
        "\n",
        "\"MNIST의 출력층 개수만 바꾸면 되겠지\"라고 생각해 쉽게 시작했지만, 그리 간단하지 않았던 과정이었다. 데이터가 잘 정돈되어 있는 MNIST와 달리 레이블도 붙여야 하고, 훈련 데이터와 시험 데이터를 직접 나눠야 했다. 하지만 밑바닥부터 만들어보는 기분이라 멈추지 않고 이어갈 수 있었다. 만약 한글 이미지가 MNIST처럼 미리 정리된 데이터셋이었다면 내부 구조에 익숙해지는 데에도 시간을 썼어야 했을 것이고, 자음만 추출하거나 자음을 한글로(k, g처럼 로마자가 아닌) 나타내지 않았을 것이다.\n",
        "다만 '딥러닝'과 직접적으로 관련된 부분에서 고민을 많이 했기보다는 다소 외적인 요소에 시간을 쓴 점은 아쉽다. kaggle과 콜랩의 연동이나, 콜랩 matplotlib에서 한글 글꼴 설정하기, 넘파이 배열 다루기 등이다. 모델을 다룰 때보다 막혀있는 시간이나 고민이 많았다. 하지만 데이터 분석이나 AI에 간접적이라도 관련이 있는 부분이고, 결국 해결했다는 점에서 위안을 얻는다. 사용한 데이터셋의 이미지 수가 1360개 뿐인 점도 아쉬운데, 이는 kaggle에 공개된 한글 데이터셋의 부족이 원인으로 보인다. 정확도를 더 올리기 위해서는 직접 한글을 써서 데이터셋의 수를 늘리거나 풍부한 데이터셋을 사용하는 방향으로 나아가야 할 것이다.\n",
        "이러나저러나, 직접 학습할 데이터셋을 정하고, 데이터를 전처리하고, 모델을 구성하는 과정을 구상하고 프로그래밍해보고 실행하는 과정에서 많은 것을 배울 수 있었다. AI 기초 수업에서 배운 개념들을 종합적으로 적용하거나 고민해볼 수 있었다. 다음에는 앞서 말한대로 이미지 수가 훨씬 많은 데이터셋을 이용하거나, 파일을 업로드하는 게 아닌 웹 등에서 그림을 직접 그려보는 등의 개선을 할 수 있을 것이다. 아니면 배운 AI 개념을 사용헤 텐서플로우 등의 프레임워크를 이용하지 않고 직접 밑바닥부터 딥러닝 모델을 쌓아보는 경험을 해보고 싶다."
      ]
    },
    {
      "cell_type": "markdown",
      "metadata": {
        "id": "zlOLAaKG6oDu"
      },
      "source": [
        "## 참고 자료\n",
        "\n",
        "- 모두의 인공지능 with 파이썬(이영호 저, 길벗)\n",
        "- [Korean font in colab](https://colab.research.google.com/github/nicewook/datascience_exercise/blob/master/korean_font_on_matplotlib.ipynb#scrollTo=uOjYIs0z1tlk)\n",
        "- [캐글과 구글 Colab 연결해주기!](https://medium.com/hyunjulie/캐글과-구글-colab-연결해주기-6a274f6de81d)\n",
        "- [Image Convert](https://www.pluralsight.com/guides/importing-image-data-into-numpy-arrays)\n",
        "- [PIL image from binary data](https://stackoverflow.com/questions/32908639/open-pil-image-from-byte-file)\n",
        "- [Colab upload files from local](https://colab.research.google.com/notebooks/io.ipynb)\n"
      ]
    }
  ],
  "metadata": {
    "colab": {
      "collapsed_sections": [],
      "name": "mini_hangul(report_ver).ipynb",
      "provenance": [],
      "toc_visible": true
    },
    "kernelspec": {
      "display_name": "Python 3",
      "name": "python3"
    },
    "language_info": {
      "name": "python"
    }
  },
  "nbformat": 4,
  "nbformat_minor": 0
}
